{
 "cells": [
  {
   "cell_type": "markdown",
   "metadata": {},
   "source": [
    "This dataset can be found in https://www.kaggle.com/bulentesen/cardiac-arrhythmia-database\n",
    "\n",
    "The algorithm that I will use will be a supervised learning algorithm because I have a labelled dataset. Given the great number of features, it seems that a decision tree based model which inherently selects the best features (the most informative) can be a suitable choice for a baseline model. I will first try a random forest because it is applicable to categorical and continuous data and it is an ensemble (bad predictions from a single weaker model (tree) will be cancelled out and the final decision comes from the aggregation of the outputs of a set of models (trees)).\n"
   ]
  },
  {
   "cell_type": "markdown",
   "metadata": {},
   "source": [
    "\n",
    "Loading the dataset:"
   ]
  },
  {
   "cell_type": "code",
   "execution_count": 119,
   "metadata": {},
   "outputs": [],
   "source": [
    "column_names = pd.read_csv('arrhythmia_column.names',header=None)"
   ]
  },
  {
   "cell_type": "code",
   "execution_count": 120,
   "metadata": {},
   "outputs": [],
   "source": [
    "df = pd.read_csv('./arrhythmia.data', delimiter=',',names=column_names[0],na_values = ['?'])"
   ]
  },
  {
   "cell_type": "code",
   "execution_count": 121,
   "metadata": {},
   "outputs": [
    {
     "data": {
      "text/html": [
       "<div>\n",
       "<style scoped>\n",
       "    .dataframe tbody tr th:only-of-type {\n",
       "        vertical-align: middle;\n",
       "    }\n",
       "\n",
       "    .dataframe tbody tr th {\n",
       "        vertical-align: top;\n",
       "    }\n",
       "\n",
       "    .dataframe thead th {\n",
       "        text-align: right;\n",
       "    }\n",
       "</style>\n",
       "<table border=\"1\" class=\"dataframe\">\n",
       "  <thead>\n",
       "    <tr style=\"text-align: right;\">\n",
       "      <th></th>\n",
       "      <th>Age</th>\n",
       "      <th>Sex</th>\n",
       "      <th>Height</th>\n",
       "      <th>Weight</th>\n",
       "      <th>QRS Duration</th>\n",
       "      <th>P-R interval</th>\n",
       "      <th>Q-T interval</th>\n",
       "      <th>T interval</th>\n",
       "      <th>P interval</th>\n",
       "      <th>QRS</th>\n",
       "      <th>...</th>\n",
       "      <th>V6_WA_Q Wave</th>\n",
       "      <th>V6_WA_R Wave</th>\n",
       "      <th>V6_WA_S Wave</th>\n",
       "      <th>V6_WA_R' Wave</th>\n",
       "      <th>V6_WA_S' Wave</th>\n",
       "      <th>V6_WA_P Wave</th>\n",
       "      <th>V6_WA_T Wave</th>\n",
       "      <th>V6_WA_QRSA</th>\n",
       "      <th>V6_WA_QRSTA</th>\n",
       "      <th>Class</th>\n",
       "    </tr>\n",
       "  </thead>\n",
       "  <tbody>\n",
       "    <tr>\n",
       "      <td>0</td>\n",
       "      <td>75</td>\n",
       "      <td>0</td>\n",
       "      <td>190</td>\n",
       "      <td>80</td>\n",
       "      <td>91</td>\n",
       "      <td>193</td>\n",
       "      <td>371</td>\n",
       "      <td>174</td>\n",
       "      <td>121</td>\n",
       "      <td>-16</td>\n",
       "      <td>...</td>\n",
       "      <td>0.0</td>\n",
       "      <td>9.0</td>\n",
       "      <td>-0.9</td>\n",
       "      <td>0.0</td>\n",
       "      <td>0.0</td>\n",
       "      <td>0.9</td>\n",
       "      <td>2.9</td>\n",
       "      <td>23.3</td>\n",
       "      <td>49.4</td>\n",
       "      <td>8</td>\n",
       "    </tr>\n",
       "    <tr>\n",
       "      <td>1</td>\n",
       "      <td>56</td>\n",
       "      <td>1</td>\n",
       "      <td>165</td>\n",
       "      <td>64</td>\n",
       "      <td>81</td>\n",
       "      <td>174</td>\n",
       "      <td>401</td>\n",
       "      <td>149</td>\n",
       "      <td>39</td>\n",
       "      <td>25</td>\n",
       "      <td>...</td>\n",
       "      <td>0.0</td>\n",
       "      <td>8.5</td>\n",
       "      <td>0.0</td>\n",
       "      <td>0.0</td>\n",
       "      <td>0.0</td>\n",
       "      <td>0.2</td>\n",
       "      <td>2.1</td>\n",
       "      <td>20.4</td>\n",
       "      <td>38.8</td>\n",
       "      <td>6</td>\n",
       "    </tr>\n",
       "    <tr>\n",
       "      <td>2</td>\n",
       "      <td>54</td>\n",
       "      <td>0</td>\n",
       "      <td>172</td>\n",
       "      <td>95</td>\n",
       "      <td>138</td>\n",
       "      <td>163</td>\n",
       "      <td>386</td>\n",
       "      <td>185</td>\n",
       "      <td>102</td>\n",
       "      <td>96</td>\n",
       "      <td>...</td>\n",
       "      <td>0.0</td>\n",
       "      <td>9.5</td>\n",
       "      <td>-2.4</td>\n",
       "      <td>0.0</td>\n",
       "      <td>0.0</td>\n",
       "      <td>0.3</td>\n",
       "      <td>3.4</td>\n",
       "      <td>12.3</td>\n",
       "      <td>49.0</td>\n",
       "      <td>10</td>\n",
       "    </tr>\n",
       "    <tr>\n",
       "      <td>3</td>\n",
       "      <td>55</td>\n",
       "      <td>0</td>\n",
       "      <td>175</td>\n",
       "      <td>94</td>\n",
       "      <td>100</td>\n",
       "      <td>202</td>\n",
       "      <td>380</td>\n",
       "      <td>179</td>\n",
       "      <td>143</td>\n",
       "      <td>28</td>\n",
       "      <td>...</td>\n",
       "      <td>0.0</td>\n",
       "      <td>12.2</td>\n",
       "      <td>-2.2</td>\n",
       "      <td>0.0</td>\n",
       "      <td>0.0</td>\n",
       "      <td>0.4</td>\n",
       "      <td>2.6</td>\n",
       "      <td>34.6</td>\n",
       "      <td>61.6</td>\n",
       "      <td>1</td>\n",
       "    </tr>\n",
       "    <tr>\n",
       "      <td>4</td>\n",
       "      <td>75</td>\n",
       "      <td>0</td>\n",
       "      <td>190</td>\n",
       "      <td>80</td>\n",
       "      <td>88</td>\n",
       "      <td>181</td>\n",
       "      <td>360</td>\n",
       "      <td>177</td>\n",
       "      <td>103</td>\n",
       "      <td>-16</td>\n",
       "      <td>...</td>\n",
       "      <td>0.0</td>\n",
       "      <td>13.1</td>\n",
       "      <td>-3.6</td>\n",
       "      <td>0.0</td>\n",
       "      <td>0.0</td>\n",
       "      <td>-0.1</td>\n",
       "      <td>3.9</td>\n",
       "      <td>25.4</td>\n",
       "      <td>62.8</td>\n",
       "      <td>7</td>\n",
       "    </tr>\n",
       "    <tr>\n",
       "      <td>...</td>\n",
       "      <td>...</td>\n",
       "      <td>...</td>\n",
       "      <td>...</td>\n",
       "      <td>...</td>\n",
       "      <td>...</td>\n",
       "      <td>...</td>\n",
       "      <td>...</td>\n",
       "      <td>...</td>\n",
       "      <td>...</td>\n",
       "      <td>...</td>\n",
       "      <td>...</td>\n",
       "      <td>...</td>\n",
       "      <td>...</td>\n",
       "      <td>...</td>\n",
       "      <td>...</td>\n",
       "      <td>...</td>\n",
       "      <td>...</td>\n",
       "      <td>...</td>\n",
       "      <td>...</td>\n",
       "      <td>...</td>\n",
       "      <td>...</td>\n",
       "    </tr>\n",
       "    <tr>\n",
       "      <td>447</td>\n",
       "      <td>53</td>\n",
       "      <td>1</td>\n",
       "      <td>160</td>\n",
       "      <td>70</td>\n",
       "      <td>80</td>\n",
       "      <td>199</td>\n",
       "      <td>382</td>\n",
       "      <td>154</td>\n",
       "      <td>117</td>\n",
       "      <td>-37</td>\n",
       "      <td>...</td>\n",
       "      <td>0.0</td>\n",
       "      <td>4.3</td>\n",
       "      <td>-5.0</td>\n",
       "      <td>0.0</td>\n",
       "      <td>0.0</td>\n",
       "      <td>0.7</td>\n",
       "      <td>0.6</td>\n",
       "      <td>-4.4</td>\n",
       "      <td>-0.5</td>\n",
       "      <td>1</td>\n",
       "    </tr>\n",
       "    <tr>\n",
       "      <td>448</td>\n",
       "      <td>37</td>\n",
       "      <td>0</td>\n",
       "      <td>190</td>\n",
       "      <td>85</td>\n",
       "      <td>100</td>\n",
       "      <td>137</td>\n",
       "      <td>361</td>\n",
       "      <td>201</td>\n",
       "      <td>73</td>\n",
       "      <td>86</td>\n",
       "      <td>...</td>\n",
       "      <td>0.0</td>\n",
       "      <td>15.6</td>\n",
       "      <td>-1.6</td>\n",
       "      <td>0.0</td>\n",
       "      <td>0.0</td>\n",
       "      <td>0.4</td>\n",
       "      <td>2.4</td>\n",
       "      <td>38.0</td>\n",
       "      <td>62.4</td>\n",
       "      <td>10</td>\n",
       "    </tr>\n",
       "    <tr>\n",
       "      <td>449</td>\n",
       "      <td>36</td>\n",
       "      <td>0</td>\n",
       "      <td>166</td>\n",
       "      <td>68</td>\n",
       "      <td>108</td>\n",
       "      <td>176</td>\n",
       "      <td>365</td>\n",
       "      <td>194</td>\n",
       "      <td>116</td>\n",
       "      <td>-85</td>\n",
       "      <td>...</td>\n",
       "      <td>0.0</td>\n",
       "      <td>16.3</td>\n",
       "      <td>-28.6</td>\n",
       "      <td>0.0</td>\n",
       "      <td>0.0</td>\n",
       "      <td>1.5</td>\n",
       "      <td>1.0</td>\n",
       "      <td>-44.2</td>\n",
       "      <td>-33.2</td>\n",
       "      <td>2</td>\n",
       "    </tr>\n",
       "    <tr>\n",
       "      <td>450</td>\n",
       "      <td>32</td>\n",
       "      <td>1</td>\n",
       "      <td>155</td>\n",
       "      <td>55</td>\n",
       "      <td>93</td>\n",
       "      <td>106</td>\n",
       "      <td>386</td>\n",
       "      <td>218</td>\n",
       "      <td>63</td>\n",
       "      <td>54</td>\n",
       "      <td>...</td>\n",
       "      <td>-0.4</td>\n",
       "      <td>12.0</td>\n",
       "      <td>-0.7</td>\n",
       "      <td>0.0</td>\n",
       "      <td>0.0</td>\n",
       "      <td>0.5</td>\n",
       "      <td>2.4</td>\n",
       "      <td>25.0</td>\n",
       "      <td>46.6</td>\n",
       "      <td>1</td>\n",
       "    </tr>\n",
       "    <tr>\n",
       "      <td>451</td>\n",
       "      <td>78</td>\n",
       "      <td>1</td>\n",
       "      <td>160</td>\n",
       "      <td>70</td>\n",
       "      <td>79</td>\n",
       "      <td>127</td>\n",
       "      <td>364</td>\n",
       "      <td>138</td>\n",
       "      <td>78</td>\n",
       "      <td>28</td>\n",
       "      <td>...</td>\n",
       "      <td>0.0</td>\n",
       "      <td>10.4</td>\n",
       "      <td>-1.8</td>\n",
       "      <td>0.0</td>\n",
       "      <td>0.0</td>\n",
       "      <td>0.5</td>\n",
       "      <td>1.6</td>\n",
       "      <td>21.3</td>\n",
       "      <td>32.8</td>\n",
       "      <td>1</td>\n",
       "    </tr>\n",
       "  </tbody>\n",
       "</table>\n",
       "<p>452 rows × 280 columns</p>\n",
       "</div>"
      ],
      "text/plain": [
       "     Age  Sex  Height  Weight  QRS Duration  P-R interval  Q-T interval  \\\n",
       "0     75    0     190      80            91           193           371   \n",
       "1     56    1     165      64            81           174           401   \n",
       "2     54    0     172      95           138           163           386   \n",
       "3     55    0     175      94           100           202           380   \n",
       "4     75    0     190      80            88           181           360   \n",
       "..   ...  ...     ...     ...           ...           ...           ...   \n",
       "447   53    1     160      70            80           199           382   \n",
       "448   37    0     190      85           100           137           361   \n",
       "449   36    0     166      68           108           176           365   \n",
       "450   32    1     155      55            93           106           386   \n",
       "451   78    1     160      70            79           127           364   \n",
       "\n",
       "     T interval  P interval  QRS  ...  V6_WA_Q Wave  V6_WA_R Wave  \\\n",
       "0           174         121  -16  ...           0.0           9.0   \n",
       "1           149          39   25  ...           0.0           8.5   \n",
       "2           185         102   96  ...           0.0           9.5   \n",
       "3           179         143   28  ...           0.0          12.2   \n",
       "4           177         103  -16  ...           0.0          13.1   \n",
       "..          ...         ...  ...  ...           ...           ...   \n",
       "447         154         117  -37  ...           0.0           4.3   \n",
       "448         201          73   86  ...           0.0          15.6   \n",
       "449         194         116  -85  ...           0.0          16.3   \n",
       "450         218          63   54  ...          -0.4          12.0   \n",
       "451         138          78   28  ...           0.0          10.4   \n",
       "\n",
       "     V6_WA_S Wave  V6_WA_R' Wave  V6_WA_S' Wave  V6_WA_P Wave  V6_WA_T Wave  \\\n",
       "0            -0.9            0.0            0.0           0.9           2.9   \n",
       "1             0.0            0.0            0.0           0.2           2.1   \n",
       "2            -2.4            0.0            0.0           0.3           3.4   \n",
       "3            -2.2            0.0            0.0           0.4           2.6   \n",
       "4            -3.6            0.0            0.0          -0.1           3.9   \n",
       "..            ...            ...            ...           ...           ...   \n",
       "447          -5.0            0.0            0.0           0.7           0.6   \n",
       "448          -1.6            0.0            0.0           0.4           2.4   \n",
       "449         -28.6            0.0            0.0           1.5           1.0   \n",
       "450          -0.7            0.0            0.0           0.5           2.4   \n",
       "451          -1.8            0.0            0.0           0.5           1.6   \n",
       "\n",
       "     V6_WA_QRSA  V6_WA_QRSTA  Class  \n",
       "0          23.3         49.4      8  \n",
       "1          20.4         38.8      6  \n",
       "2          12.3         49.0     10  \n",
       "3          34.6         61.6      1  \n",
       "4          25.4         62.8      7  \n",
       "..          ...          ...    ...  \n",
       "447        -4.4         -0.5      1  \n",
       "448        38.0         62.4     10  \n",
       "449       -44.2        -33.2      2  \n",
       "450        25.0         46.6      1  \n",
       "451        21.3         32.8      1  \n",
       "\n",
       "[452 rows x 280 columns]"
      ]
     },
     "execution_count": 121,
     "metadata": {},
     "output_type": "execute_result"
    }
   ],
   "source": [
    "df"
   ]
  },
  {
   "cell_type": "markdown",
   "metadata": {},
   "source": [
    "\n",
    "Check how the distribution of target class is:"
   ]
  },
  {
   "cell_type": "code",
   "execution_count": 122,
   "metadata": {},
   "outputs": [
    {
     "data": {
      "text/plain": [
       "1     245\n",
       "10     50\n",
       "2      44\n",
       "6      25\n",
       "16     22\n",
       "4      15\n",
       "3      15\n",
       "5      13\n",
       "9       9\n",
       "15      5\n",
       "14      4\n",
       "7       3\n",
       "8       2\n",
       "Name: Class, dtype: int64"
      ]
     },
     "execution_count": 122,
     "metadata": {},
     "output_type": "execute_result"
    }
   ],
   "source": [
    "df.Class.value_counts()"
   ]
  },
  {
   "cell_type": "code",
   "execution_count": 123,
   "metadata": {},
   "outputs": [
    {
     "data": {
      "text/plain": [
       "207"
      ]
     },
     "execution_count": 123,
     "metadata": {},
     "output_type": "execute_result"
    }
   ],
   "source": [
    "sum(df['Class']!=1) #check how many occurences of non-normal arrythmia exists"
   ]
  },
  {
   "cell_type": "markdown",
   "metadata": {},
   "source": [
    "<font color='darkblue'>\n",
    "There are 245 occurences of normal arrythmia and 207 occurences of non-normal arrythmia. As only patients with non-normal arrythmia are subjected to further examination (they are in risk of heart failure) it doesn't make sense to predict what class of arrythmia the patient has (even because there are certain types of arrythmia that don't even occur in this dataset, according with dataset description file \"arrhythmia.names\"). Furthermore, there aren't so many instances in this dataset that allows the algorithm to make a clear distinction (representativeness issue). For those reasons, I will transform this problem in a binary classification problem instead of a multi-class. This also generates a nearly balanced dataset from the target perspective."
   ]
  },
  {
   "cell_type": "code",
   "execution_count": 124,
   "metadata": {},
   "outputs": [
    {
     "data": {
      "text/plain": [
       "Normal    245\n",
       "Risk      207\n",
       "Name: Class, dtype: int64"
      ]
     },
     "execution_count": 124,
     "metadata": {},
     "output_type": "execute_result"
    }
   ],
   "source": [
    "df1 = df.copy() #create a copy of the original dataset\n",
    "\n",
    "#setting prediction values to \"Normal\" or \"Risk\" based on column scores values\n",
    "df1.loc[df1[\"Class\"] == 1,\"Class\"] = \"Normal\"         #class 1 is normal arrythmia\n",
    "df1.loc[df1[\"Class\"] != \"Normal\",\"Class\"] = \"Risk\"    #other classes are risk classes\n",
    "df1.Class.value_counts()"
   ]
  },
  {
   "cell_type": "markdown",
   "metadata": {},
   "source": [
    "<font color='darkblue'>\n",
    "Checking features that I am familiar with to see if there are any uncomon values:"
   ]
  },
  {
   "cell_type": "code",
   "execution_count": 125,
   "metadata": {},
   "outputs": [
    {
     "name": "stdout",
     "output_type": "stream",
     "text": [
      "Histogram for Age:\n"
     ]
    },
    {
     "data": {
      "image/png": "[encoded data removed]",
      "text/plain": [
       "<Figure size 432x288 with 1 Axes>"
      ]
     },
     "metadata": {
      "needs_background": "light"
     },
     "output_type": "display_data"
    },
    {
     "name": "stdout",
     "output_type": "stream",
     "text": [
      "Histogram for Sex:\n"
     ]
    },
    {
     "data": {
      "image/png": "[encoded data removed]",
      "text/plain": [
       "<Figure size 432x288 with 1 Axes>"
      ]
     },
     "metadata": {
      "needs_background": "light"
     },
     "output_type": "display_data"
    },
    {
     "name": "stdout",
     "output_type": "stream",
     "text": [
      "Histogram for Height:\n"
     ]
    },
    {
     "data": {
      "image/png": "[encoded data removed]",
      "text/plain": [
       "<Figure size 432x288 with 1 Axes>"
      ]
     },
     "metadata": {
      "needs_background": "light"
     },
     "output_type": "display_data"
    },
    {
     "name": "stdout",
     "output_type": "stream",
     "text": [
      "Histogram for Weight:\n"
     ]
    },
    {
     "data": {
      "image/png": "[encoded data removed]",
      "text/plain": [
       "<Figure size 432x288 with 1 Axes>"
      ]
     },
     "metadata": {
      "needs_background": "light"
     },
     "output_type": "display_data"
    },
    {
     "name": "stdout",
     "output_type": "stream",
     "text": [
      "Histogram for Heart rate bpm:\n"
     ]
    },
    {
     "name": "stderr",
     "output_type": "stream",
     "text": [
      "C:\\Users\\mtava\\Anaconda3\\lib\\site-packages\\numpy\\lib\\histograms.py:824: RuntimeWarning: invalid value encountered in greater_equal\n",
      "  keep = (tmp_a >= first_edge)\n",
      "C:\\Users\\mtava\\Anaconda3\\lib\\site-packages\\numpy\\lib\\histograms.py:825: RuntimeWarning: invalid value encountered in less_equal\n",
      "  keep &= (tmp_a <= last_edge)\n"
     ]
    },
    {
     "data": {
      "image/png": "[encoded data removed]",
      "text/plain": [
       "<Figure size 432x288 with 1 Axes>"
      ]
     },
     "metadata": {
      "needs_background": "light"
     },
     "output_type": "display_data"
    }
   ],
   "source": [
    "familiar_features = ['Age','Sex','Height','Weight','Heart rate bpm'] #list of well known features with missing data\n",
    "\n",
    "#function that creates an histogram for a feature\n",
    "def print_hist(df,feature,nbins):\n",
    "    print(\"Histogram for \" + feature + \":\")\n",
    "    column = df[feature]\n",
    "    plt.hist(column,bins=nbins)\n",
    "    plt.show()\n",
    "\n",
    "for feature in familiar_features: print_hist(df1,feature,30)"
   ]
  },
  {
   "cell_type": "markdown",
   "metadata": {},
   "source": [
    "<font color='darkblue'>\n",
    "Age feature:"
   ]
  },
  {
   "cell_type": "code",
   "execution_count": 126,
   "metadata": {},
   "outputs": [
    {
     "data": {
      "text/plain": [
       "0     1\n",
       "1     2\n",
       "3     1\n",
       "7     3\n",
       "8     2\n",
       "     ..\n",
       "78    2\n",
       "79    1\n",
       "80    2\n",
       "81    1\n",
       "83    1\n",
       "Name: Age, Length: 77, dtype: int64"
      ]
     },
     "execution_count": 126,
     "metadata": {},
     "output_type": "execute_result"
    }
   ],
   "source": [
    "df1['Age'].value_counts().sort_index() #get different values and count occurences for each value"
   ]
  },
  {
   "cell_type": "code",
   "execution_count": 127,
   "metadata": {},
   "outputs": [
    {
     "data": {
      "text/html": [
       "<div>\n",
       "<style scoped>\n",
       "    .dataframe tbody tr th:only-of-type {\n",
       "        vertical-align: middle;\n",
       "    }\n",
       "\n",
       "    .dataframe tbody tr th {\n",
       "        vertical-align: top;\n",
       "    }\n",
       "\n",
       "    .dataframe thead th {\n",
       "        text-align: right;\n",
       "    }\n",
       "</style>\n",
       "<table border=\"1\" class=\"dataframe\">\n",
       "  <thead>\n",
       "    <tr style=\"text-align: right;\">\n",
       "      <th></th>\n",
       "      <th>Age</th>\n",
       "      <th>Sex</th>\n",
       "      <th>Height</th>\n",
       "      <th>Weight</th>\n",
       "      <th>QRS Duration</th>\n",
       "      <th>P-R interval</th>\n",
       "      <th>Q-T interval</th>\n",
       "      <th>T interval</th>\n",
       "      <th>P interval</th>\n",
       "      <th>QRS</th>\n",
       "      <th>...</th>\n",
       "      <th>V6_WA_Q Wave</th>\n",
       "      <th>V6_WA_R Wave</th>\n",
       "      <th>V6_WA_S Wave</th>\n",
       "      <th>V6_WA_R' Wave</th>\n",
       "      <th>V6_WA_S' Wave</th>\n",
       "      <th>V6_WA_P Wave</th>\n",
       "      <th>V6_WA_T Wave</th>\n",
       "      <th>V6_WA_QRSA</th>\n",
       "      <th>V6_WA_QRSTA</th>\n",
       "      <th>Class</th>\n",
       "    </tr>\n",
       "  </thead>\n",
       "  <tbody>\n",
       "    <tr>\n",
       "      <td>316</td>\n",
       "      <td>0</td>\n",
       "      <td>0</td>\n",
       "      <td>608</td>\n",
       "      <td>10</td>\n",
       "      <td>83</td>\n",
       "      <td>126</td>\n",
       "      <td>232</td>\n",
       "      <td>128</td>\n",
       "      <td>60</td>\n",
       "      <td>125</td>\n",
       "      <td>...</td>\n",
       "      <td>-0.7</td>\n",
       "      <td>4.5</td>\n",
       "      <td>-5.5</td>\n",
       "      <td>0.0</td>\n",
       "      <td>0.0</td>\n",
       "      <td>0.5</td>\n",
       "      <td>2.5</td>\n",
       "      <td>-11.8</td>\n",
       "      <td>1.7</td>\n",
       "      <td>Risk</td>\n",
       "    </tr>\n",
       "  </tbody>\n",
       "</table>\n",
       "<p>1 rows × 280 columns</p>\n",
       "</div>"
      ],
      "text/plain": [
       "     Age  Sex  Height  Weight  QRS Duration  P-R interval  Q-T interval  \\\n",
       "316    0    0     608      10            83           126           232   \n",
       "\n",
       "     T interval  P interval  QRS  ...  V6_WA_Q Wave  V6_WA_R Wave  \\\n",
       "316         128          60  125  ...          -0.7           4.5   \n",
       "\n",
       "     V6_WA_S Wave  V6_WA_R' Wave  V6_WA_S' Wave  V6_WA_P Wave  V6_WA_T Wave  \\\n",
       "316          -5.5            0.0            0.0           0.5           2.5   \n",
       "\n",
       "     V6_WA_QRSA  V6_WA_QRSTA  Class  \n",
       "316       -11.8          1.7   Risk  \n",
       "\n",
       "[1 rows x 280 columns]"
      ]
     },
     "execution_count": 127,
     "metadata": {},
     "output_type": "execute_result"
    }
   ],
   "source": [
    "df1[df1['Age']==0] #select occurence with Age=0"
   ]
  },
  {
   "cell_type": "markdown",
   "metadata": {},
   "source": [
    "<font color='darkblue'>\n",
    "The presence of an individual with Age = 0 and Weight = 10 kgs (probably a baby) suggests that height = 608 cm is actually 61 cm. I should correct height for this instance:"
   ]
  },
  {
   "cell_type": "code",
   "execution_count": 128,
   "metadata": {},
   "outputs": [],
   "source": [
    "df1.loc[df1[\"Age\"] == 0, \"Height\"] = 61"
   ]
  },
  {
   "cell_type": "markdown",
   "metadata": {},
   "source": [
    "<font color='darkblue'>\n",
    "Height feature:"
   ]
  },
  {
   "cell_type": "code",
   "execution_count": 129,
   "metadata": {},
   "outputs": [
    {
     "data": {
      "text/plain": [
       "61      1\n",
       "105     1\n",
       "110     1\n",
       "119     1\n",
       "120     2\n",
       "124     1\n",
       "127     1\n",
       "130     2\n",
       "132     1\n",
       "133     1\n",
       "138     1\n",
       "140     1\n",
       "146     1\n",
       "148     1\n",
       "149     1\n",
       "150     9\n",
       "152     1\n",
       "153     5\n",
       "154     4\n",
       "155    23\n",
       "156    19\n",
       "157    10\n",
       "158     9\n",
       "159     6\n",
       "160    81\n",
       "161     5\n",
       "162    15\n",
       "163    16\n",
       "164     9\n",
       "165    46\n",
       "166     9\n",
       "167     8\n",
       "168    15\n",
       "169     7\n",
       "170    40\n",
       "171     9\n",
       "172    14\n",
       "173     7\n",
       "174     4\n",
       "175    21\n",
       "176    10\n",
       "177     4\n",
       "178     9\n",
       "179     1\n",
       "180     4\n",
       "181     1\n",
       "182     2\n",
       "184     1\n",
       "185     3\n",
       "186     3\n",
       "188     1\n",
       "190     3\n",
       "780     1\n",
       "Name: Height, dtype: int64"
      ]
     },
     "execution_count": 129,
     "metadata": {},
     "output_type": "execute_result"
    }
   ],
   "source": [
    "df1['Height'].value_counts().sort_index()"
   ]
  },
  {
   "cell_type": "code",
   "execution_count": 130,
   "metadata": {},
   "outputs": [
    {
     "data": {
      "text/html": [
       "<div>\n",
       "<style scoped>\n",
       "    .dataframe tbody tr th:only-of-type {\n",
       "        vertical-align: middle;\n",
       "    }\n",
       "\n",
       "    .dataframe tbody tr th {\n",
       "        vertical-align: top;\n",
       "    }\n",
       "\n",
       "    .dataframe thead th {\n",
       "        text-align: right;\n",
       "    }\n",
       "</style>\n",
       "<table border=\"1\" class=\"dataframe\">\n",
       "  <thead>\n",
       "    <tr style=\"text-align: right;\">\n",
       "      <th></th>\n",
       "      <th>Age</th>\n",
       "      <th>Sex</th>\n",
       "      <th>Height</th>\n",
       "      <th>Weight</th>\n",
       "      <th>QRS Duration</th>\n",
       "      <th>P-R interval</th>\n",
       "      <th>Q-T interval</th>\n",
       "      <th>T interval</th>\n",
       "      <th>P interval</th>\n",
       "      <th>QRS</th>\n",
       "      <th>...</th>\n",
       "      <th>V6_WA_Q Wave</th>\n",
       "      <th>V6_WA_R Wave</th>\n",
       "      <th>V6_WA_S Wave</th>\n",
       "      <th>V6_WA_R' Wave</th>\n",
       "      <th>V6_WA_S' Wave</th>\n",
       "      <th>V6_WA_P Wave</th>\n",
       "      <th>V6_WA_T Wave</th>\n",
       "      <th>V6_WA_QRSA</th>\n",
       "      <th>V6_WA_QRSTA</th>\n",
       "      <th>Class</th>\n",
       "    </tr>\n",
       "  </thead>\n",
       "  <tbody>\n",
       "    <tr>\n",
       "      <td>141</td>\n",
       "      <td>1</td>\n",
       "      <td>1</td>\n",
       "      <td>780</td>\n",
       "      <td>6</td>\n",
       "      <td>85</td>\n",
       "      <td>165</td>\n",
       "      <td>237</td>\n",
       "      <td>150</td>\n",
       "      <td>106</td>\n",
       "      <td>88</td>\n",
       "      <td>...</td>\n",
       "      <td>0.0</td>\n",
       "      <td>5.0</td>\n",
       "      <td>-4.6</td>\n",
       "      <td>0.0</td>\n",
       "      <td>0.0</td>\n",
       "      <td>1.3</td>\n",
       "      <td>0.7</td>\n",
       "      <td>2.7</td>\n",
       "      <td>5.5</td>\n",
       "      <td>Risk</td>\n",
       "    </tr>\n",
       "  </tbody>\n",
       "</table>\n",
       "<p>1 rows × 280 columns</p>\n",
       "</div>"
      ],
      "text/plain": [
       "     Age  Sex  Height  Weight  QRS Duration  P-R interval  Q-T interval  \\\n",
       "141    1    1     780       6            85           165           237   \n",
       "\n",
       "     T interval  P interval  QRS  ...  V6_WA_Q Wave  V6_WA_R Wave  \\\n",
       "141         150         106   88  ...           0.0           5.0   \n",
       "\n",
       "     V6_WA_S Wave  V6_WA_R' Wave  V6_WA_S' Wave  V6_WA_P Wave  V6_WA_T Wave  \\\n",
       "141          -4.6            0.0            0.0           1.3           0.7   \n",
       "\n",
       "     V6_WA_QRSA  V6_WA_QRSTA  Class  \n",
       "141         2.7          5.5   Risk  \n",
       "\n",
       "[1 rows x 280 columns]"
      ]
     },
     "execution_count": 130,
     "metadata": {},
     "output_type": "execute_result"
    }
   ],
   "source": [
    "df1[df1['Height']==780] #select occurence with Height=780"
   ]
  },
  {
   "cell_type": "markdown",
   "metadata": {},
   "source": [
    "<font color='darkblue'>\n",
    "The presence of another baby with incorrect height (780 cm) suggests another typo to correct:"
   ]
  },
  {
   "cell_type": "code",
   "execution_count": 131,
   "metadata": {},
   "outputs": [],
   "source": [
    "df1.loc[df1[\"Height\"] == 780, \"Height\"] = 78"
   ]
  },
  {
   "cell_type": "markdown",
   "metadata": {},
   "source": [
    "<font color='darkblue'>\n",
    "Looking for features with one-level cardinality (non-informative features):"
   ]
  },
  {
   "cell_type": "code",
   "execution_count": 132,
   "metadata": {},
   "outputs": [
    {
     "data": {
      "text/plain": [
       "[\"DI_WW_S' Wave\",\n",
       " \"AVL_WW_S' Wave\",\n",
       " 'AVL_WW_Ragged R wave',\n",
       " 'AVF_WW_Ragged P wave',\n",
       " 'V4_WW_Ragged P wave',\n",
       " 'V4_WW_Diphasic Deriviation P',\n",
       " \"V5_WW_S' Wave\",\n",
       " 'V5_WW_Ragged R wave',\n",
       " 'V5_WW_Ragged P wave',\n",
       " 'V5_WW_Ragged T Wave',\n",
       " \"V6_WW_S' Wave\",\n",
       " 'V6_WW_Diphasic Deriviation P',\n",
       " 'V6_WW_Ragged T Wave',\n",
       " \"DI_WA_S' Wave\",\n",
       " \"AVL_WA_S' Wave\",\n",
       " \"V5_WA_S' Wave\",\n",
       " \"V6_WA_S' Wave\"]"
      ]
     },
     "execution_count": 132,
     "metadata": {},
     "output_type": "execute_result"
    }
   ],
   "source": [
    "one_levels = [] #create an empty list to append features with one level\n",
    "\n",
    "ncol = df1.shape[1] # store number of columns\n",
    "\n",
    "#for loop to add features names with one level to \"one_levels\" list \n",
    "for index in range(ncol):\n",
    "    if len(df1.iloc[:,index].unique()) == 1:\n",
    "        one_levels.append(df1.columns[index])\n",
    "\n",
    "one_levels"
   ]
  },
  {
   "cell_type": "markdown",
   "metadata": {},
   "source": [
    "<font color='darkblue'>\n",
    "All those features have only one level and therefore should be eliminated once they don't add knowledge to the dataset."
   ]
  },
  {
   "cell_type": "code",
   "execution_count": 133,
   "metadata": {},
   "outputs": [],
   "source": [
    "df2 = df1.copy()\n",
    "df2 = df1.drop(columns=one_levels) # delete one_level columns "
   ]
  },
  {
   "cell_type": "markdown",
   "metadata": {},
   "source": [
    "<font color='darkblue'>\n",
    "Checking for missing values:"
   ]
  },
  {
   "cell_type": "code",
   "execution_count": 134,
   "metadata": {},
   "outputs": [
    {
     "data": {
      "text/plain": [
       "408"
      ]
     },
     "execution_count": 134,
     "metadata": {},
     "output_type": "execute_result"
    }
   ],
   "source": [
    "df2.isnull().sum().sum() #total number of missing values is 408"
   ]
  },
  {
   "cell_type": "code",
   "execution_count": 135,
   "metadata": {},
   "outputs": [
    {
     "data": {
      "text/html": [
       "<div>\n",
       "<style scoped>\n",
       "    .dataframe tbody tr th:only-of-type {\n",
       "        vertical-align: middle;\n",
       "    }\n",
       "\n",
       "    .dataframe tbody tr th {\n",
       "        vertical-align: top;\n",
       "    }\n",
       "\n",
       "    .dataframe thead th {\n",
       "        text-align: right;\n",
       "    }\n",
       "</style>\n",
       "<table border=\"1\" class=\"dataframe\">\n",
       "  <thead>\n",
       "    <tr style=\"text-align: right;\">\n",
       "      <th></th>\n",
       "      <th>0</th>\n",
       "    </tr>\n",
       "  </thead>\n",
       "  <tbody>\n",
       "    <tr>\n",
       "      <td>T</td>\n",
       "      <td>8</td>\n",
       "    </tr>\n",
       "    <tr>\n",
       "      <td>P</td>\n",
       "      <td>22</td>\n",
       "    </tr>\n",
       "    <tr>\n",
       "      <td>QRST</td>\n",
       "      <td>1</td>\n",
       "    </tr>\n",
       "    <tr>\n",
       "      <td>J</td>\n",
       "      <td>376</td>\n",
       "    </tr>\n",
       "    <tr>\n",
       "      <td>Heart rate bpm</td>\n",
       "      <td>1</td>\n",
       "    </tr>\n",
       "  </tbody>\n",
       "</table>\n",
       "</div>"
      ],
      "text/plain": [
       "                  0\n",
       "T                 8\n",
       "P                22\n",
       "QRST              1\n",
       "J               376\n",
       "Heart rate bpm    1"
      ]
     },
     "execution_count": 135,
     "metadata": {},
     "output_type": "execute_result"
    }
   ],
   "source": [
    "#print columns with missing values and its occurences\n",
    "missing = df2.isnull().sum()\n",
    "missing_df = pd.DataFrame(missing)\n",
    "missing_df[missing_df[0]!=0]"
   ]
  },
  {
   "cell_type": "markdown",
   "metadata": {},
   "source": [
    "<font color='darkblue'>\n",
    "From the output above, there are few features with missing values. Furthermore, there's one feature (feature J) with 376 missing values. This represents 83% of the occurences in the dataset and for that reason I will delete this feature from the dataset. The rationale behind this is the rule of thumb of removing features with more than 60% of missing data (based on Kelleher et al, 2013 page 67)."
   ]
  },
  {
   "cell_type": "code",
   "execution_count": 136,
   "metadata": {},
   "outputs": [
    {
     "data": {
      "text/html": [
       "<div>\n",
       "<style scoped>\n",
       "    .dataframe tbody tr th:only-of-type {\n",
       "        vertical-align: middle;\n",
       "    }\n",
       "\n",
       "    .dataframe tbody tr th {\n",
       "        vertical-align: top;\n",
       "    }\n",
       "\n",
       "    .dataframe thead th {\n",
       "        text-align: right;\n",
       "    }\n",
       "</style>\n",
       "<table border=\"1\" class=\"dataframe\">\n",
       "  <thead>\n",
       "    <tr style=\"text-align: right;\">\n",
       "      <th></th>\n",
       "      <th>Age</th>\n",
       "      <th>Sex</th>\n",
       "      <th>Height</th>\n",
       "      <th>Weight</th>\n",
       "      <th>QRS Duration</th>\n",
       "      <th>P-R interval</th>\n",
       "      <th>Q-T interval</th>\n",
       "      <th>T interval</th>\n",
       "      <th>P interval</th>\n",
       "      <th>QRS</th>\n",
       "      <th>...</th>\n",
       "      <th>V6_WA_JJ Wave</th>\n",
       "      <th>V6_WA_Q Wave</th>\n",
       "      <th>V6_WA_R Wave</th>\n",
       "      <th>V6_WA_S Wave</th>\n",
       "      <th>V6_WA_R' Wave</th>\n",
       "      <th>V6_WA_P Wave</th>\n",
       "      <th>V6_WA_T Wave</th>\n",
       "      <th>V6_WA_QRSA</th>\n",
       "      <th>V6_WA_QRSTA</th>\n",
       "      <th>Class</th>\n",
       "    </tr>\n",
       "  </thead>\n",
       "  <tbody>\n",
       "    <tr>\n",
       "      <td>0</td>\n",
       "      <td>75</td>\n",
       "      <td>0</td>\n",
       "      <td>190</td>\n",
       "      <td>80</td>\n",
       "      <td>91</td>\n",
       "      <td>193</td>\n",
       "      <td>371</td>\n",
       "      <td>174</td>\n",
       "      <td>121</td>\n",
       "      <td>-16</td>\n",
       "      <td>...</td>\n",
       "      <td>-0.3</td>\n",
       "      <td>0.0</td>\n",
       "      <td>9.0</td>\n",
       "      <td>-0.9</td>\n",
       "      <td>0.0</td>\n",
       "      <td>0.9</td>\n",
       "      <td>2.9</td>\n",
       "      <td>23.3</td>\n",
       "      <td>49.4</td>\n",
       "      <td>Risk</td>\n",
       "    </tr>\n",
       "    <tr>\n",
       "      <td>1</td>\n",
       "      <td>56</td>\n",
       "      <td>1</td>\n",
       "      <td>165</td>\n",
       "      <td>64</td>\n",
       "      <td>81</td>\n",
       "      <td>174</td>\n",
       "      <td>401</td>\n",
       "      <td>149</td>\n",
       "      <td>39</td>\n",
       "      <td>25</td>\n",
       "      <td>...</td>\n",
       "      <td>-0.5</td>\n",
       "      <td>0.0</td>\n",
       "      <td>8.5</td>\n",
       "      <td>0.0</td>\n",
       "      <td>0.0</td>\n",
       "      <td>0.2</td>\n",
       "      <td>2.1</td>\n",
       "      <td>20.4</td>\n",
       "      <td>38.8</td>\n",
       "      <td>Risk</td>\n",
       "    </tr>\n",
       "    <tr>\n",
       "      <td>2</td>\n",
       "      <td>54</td>\n",
       "      <td>0</td>\n",
       "      <td>172</td>\n",
       "      <td>95</td>\n",
       "      <td>138</td>\n",
       "      <td>163</td>\n",
       "      <td>386</td>\n",
       "      <td>185</td>\n",
       "      <td>102</td>\n",
       "      <td>96</td>\n",
       "      <td>...</td>\n",
       "      <td>0.9</td>\n",
       "      <td>0.0</td>\n",
       "      <td>9.5</td>\n",
       "      <td>-2.4</td>\n",
       "      <td>0.0</td>\n",
       "      <td>0.3</td>\n",
       "      <td>3.4</td>\n",
       "      <td>12.3</td>\n",
       "      <td>49.0</td>\n",
       "      <td>Risk</td>\n",
       "    </tr>\n",
       "    <tr>\n",
       "      <td>3</td>\n",
       "      <td>55</td>\n",
       "      <td>0</td>\n",
       "      <td>175</td>\n",
       "      <td>94</td>\n",
       "      <td>100</td>\n",
       "      <td>202</td>\n",
       "      <td>380</td>\n",
       "      <td>179</td>\n",
       "      <td>143</td>\n",
       "      <td>28</td>\n",
       "      <td>...</td>\n",
       "      <td>0.1</td>\n",
       "      <td>0.0</td>\n",
       "      <td>12.2</td>\n",
       "      <td>-2.2</td>\n",
       "      <td>0.0</td>\n",
       "      <td>0.4</td>\n",
       "      <td>2.6</td>\n",
       "      <td>34.6</td>\n",
       "      <td>61.6</td>\n",
       "      <td>Normal</td>\n",
       "    </tr>\n",
       "    <tr>\n",
       "      <td>4</td>\n",
       "      <td>75</td>\n",
       "      <td>0</td>\n",
       "      <td>190</td>\n",
       "      <td>80</td>\n",
       "      <td>88</td>\n",
       "      <td>181</td>\n",
       "      <td>360</td>\n",
       "      <td>177</td>\n",
       "      <td>103</td>\n",
       "      <td>-16</td>\n",
       "      <td>...</td>\n",
       "      <td>-0.4</td>\n",
       "      <td>0.0</td>\n",
       "      <td>13.1</td>\n",
       "      <td>-3.6</td>\n",
       "      <td>0.0</td>\n",
       "      <td>-0.1</td>\n",
       "      <td>3.9</td>\n",
       "      <td>25.4</td>\n",
       "      <td>62.8</td>\n",
       "      <td>Risk</td>\n",
       "    </tr>\n",
       "    <tr>\n",
       "      <td>...</td>\n",
       "      <td>...</td>\n",
       "      <td>...</td>\n",
       "      <td>...</td>\n",
       "      <td>...</td>\n",
       "      <td>...</td>\n",
       "      <td>...</td>\n",
       "      <td>...</td>\n",
       "      <td>...</td>\n",
       "      <td>...</td>\n",
       "      <td>...</td>\n",
       "      <td>...</td>\n",
       "      <td>...</td>\n",
       "      <td>...</td>\n",
       "      <td>...</td>\n",
       "      <td>...</td>\n",
       "      <td>...</td>\n",
       "      <td>...</td>\n",
       "      <td>...</td>\n",
       "      <td>...</td>\n",
       "      <td>...</td>\n",
       "      <td>...</td>\n",
       "    </tr>\n",
       "    <tr>\n",
       "      <td>447</td>\n",
       "      <td>53</td>\n",
       "      <td>1</td>\n",
       "      <td>160</td>\n",
       "      <td>70</td>\n",
       "      <td>80</td>\n",
       "      <td>199</td>\n",
       "      <td>382</td>\n",
       "      <td>154</td>\n",
       "      <td>117</td>\n",
       "      <td>-37</td>\n",
       "      <td>...</td>\n",
       "      <td>0.0</td>\n",
       "      <td>0.0</td>\n",
       "      <td>4.3</td>\n",
       "      <td>-5.0</td>\n",
       "      <td>0.0</td>\n",
       "      <td>0.7</td>\n",
       "      <td>0.6</td>\n",
       "      <td>-4.4</td>\n",
       "      <td>-0.5</td>\n",
       "      <td>Normal</td>\n",
       "    </tr>\n",
       "    <tr>\n",
       "      <td>448</td>\n",
       "      <td>37</td>\n",
       "      <td>0</td>\n",
       "      <td>190</td>\n",
       "      <td>85</td>\n",
       "      <td>100</td>\n",
       "      <td>137</td>\n",
       "      <td>361</td>\n",
       "      <td>201</td>\n",
       "      <td>73</td>\n",
       "      <td>86</td>\n",
       "      <td>...</td>\n",
       "      <td>-0.5</td>\n",
       "      <td>0.0</td>\n",
       "      <td>15.6</td>\n",
       "      <td>-1.6</td>\n",
       "      <td>0.0</td>\n",
       "      <td>0.4</td>\n",
       "      <td>2.4</td>\n",
       "      <td>38.0</td>\n",
       "      <td>62.4</td>\n",
       "      <td>Risk</td>\n",
       "    </tr>\n",
       "    <tr>\n",
       "      <td>449</td>\n",
       "      <td>36</td>\n",
       "      <td>0</td>\n",
       "      <td>166</td>\n",
       "      <td>68</td>\n",
       "      <td>108</td>\n",
       "      <td>176</td>\n",
       "      <td>365</td>\n",
       "      <td>194</td>\n",
       "      <td>116</td>\n",
       "      <td>-85</td>\n",
       "      <td>...</td>\n",
       "      <td>1.2</td>\n",
       "      <td>0.0</td>\n",
       "      <td>16.3</td>\n",
       "      <td>-28.6</td>\n",
       "      <td>0.0</td>\n",
       "      <td>1.5</td>\n",
       "      <td>1.0</td>\n",
       "      <td>-44.2</td>\n",
       "      <td>-33.2</td>\n",
       "      <td>Risk</td>\n",
       "    </tr>\n",
       "    <tr>\n",
       "      <td>450</td>\n",
       "      <td>32</td>\n",
       "      <td>1</td>\n",
       "      <td>155</td>\n",
       "      <td>55</td>\n",
       "      <td>93</td>\n",
       "      <td>106</td>\n",
       "      <td>386</td>\n",
       "      <td>218</td>\n",
       "      <td>63</td>\n",
       "      <td>54</td>\n",
       "      <td>...</td>\n",
       "      <td>0.2</td>\n",
       "      <td>-0.4</td>\n",
       "      <td>12.0</td>\n",
       "      <td>-0.7</td>\n",
       "      <td>0.0</td>\n",
       "      <td>0.5</td>\n",
       "      <td>2.4</td>\n",
       "      <td>25.0</td>\n",
       "      <td>46.6</td>\n",
       "      <td>Normal</td>\n",
       "    </tr>\n",
       "    <tr>\n",
       "      <td>451</td>\n",
       "      <td>78</td>\n",
       "      <td>1</td>\n",
       "      <td>160</td>\n",
       "      <td>70</td>\n",
       "      <td>79</td>\n",
       "      <td>127</td>\n",
       "      <td>364</td>\n",
       "      <td>138</td>\n",
       "      <td>78</td>\n",
       "      <td>28</td>\n",
       "      <td>...</td>\n",
       "      <td>-0.3</td>\n",
       "      <td>0.0</td>\n",
       "      <td>10.4</td>\n",
       "      <td>-1.8</td>\n",
       "      <td>0.0</td>\n",
       "      <td>0.5</td>\n",
       "      <td>1.6</td>\n",
       "      <td>21.3</td>\n",
       "      <td>32.8</td>\n",
       "      <td>Normal</td>\n",
       "    </tr>\n",
       "  </tbody>\n",
       "</table>\n",
       "<p>452 rows × 262 columns</p>\n",
       "</div>"
      ],
      "text/plain": [
       "     Age  Sex  Height  Weight  QRS Duration  P-R interval  Q-T interval  \\\n",
       "0     75    0     190      80            91           193           371   \n",
       "1     56    1     165      64            81           174           401   \n",
       "2     54    0     172      95           138           163           386   \n",
       "3     55    0     175      94           100           202           380   \n",
       "4     75    0     190      80            88           181           360   \n",
       "..   ...  ...     ...     ...           ...           ...           ...   \n",
       "447   53    1     160      70            80           199           382   \n",
       "448   37    0     190      85           100           137           361   \n",
       "449   36    0     166      68           108           176           365   \n",
       "450   32    1     155      55            93           106           386   \n",
       "451   78    1     160      70            79           127           364   \n",
       "\n",
       "     T interval  P interval  QRS  ...  V6_WA_JJ Wave  V6_WA_Q Wave  \\\n",
       "0           174         121  -16  ...           -0.3           0.0   \n",
       "1           149          39   25  ...           -0.5           0.0   \n",
       "2           185         102   96  ...            0.9           0.0   \n",
       "3           179         143   28  ...            0.1           0.0   \n",
       "4           177         103  -16  ...           -0.4           0.0   \n",
       "..          ...         ...  ...  ...            ...           ...   \n",
       "447         154         117  -37  ...            0.0           0.0   \n",
       "448         201          73   86  ...           -0.5           0.0   \n",
       "449         194         116  -85  ...            1.2           0.0   \n",
       "450         218          63   54  ...            0.2          -0.4   \n",
       "451         138          78   28  ...           -0.3           0.0   \n",
       "\n",
       "     V6_WA_R Wave  V6_WA_S Wave  V6_WA_R' Wave  V6_WA_P Wave  V6_WA_T Wave  \\\n",
       "0             9.0          -0.9            0.0           0.9           2.9   \n",
       "1             8.5           0.0            0.0           0.2           2.1   \n",
       "2             9.5          -2.4            0.0           0.3           3.4   \n",
       "3            12.2          -2.2            0.0           0.4           2.6   \n",
       "4            13.1          -3.6            0.0          -0.1           3.9   \n",
       "..            ...           ...            ...           ...           ...   \n",
       "447           4.3          -5.0            0.0           0.7           0.6   \n",
       "448          15.6          -1.6            0.0           0.4           2.4   \n",
       "449          16.3         -28.6            0.0           1.5           1.0   \n",
       "450          12.0          -0.7            0.0           0.5           2.4   \n",
       "451          10.4          -1.8            0.0           0.5           1.6   \n",
       "\n",
       "     V6_WA_QRSA  V6_WA_QRSTA   Class  \n",
       "0          23.3         49.4    Risk  \n",
       "1          20.4         38.8    Risk  \n",
       "2          12.3         49.0    Risk  \n",
       "3          34.6         61.6  Normal  \n",
       "4          25.4         62.8    Risk  \n",
       "..          ...          ...     ...  \n",
       "447        -4.4         -0.5  Normal  \n",
       "448        38.0         62.4    Risk  \n",
       "449       -44.2        -33.2    Risk  \n",
       "450        25.0         46.6  Normal  \n",
       "451        21.3         32.8  Normal  \n",
       "\n",
       "[452 rows x 262 columns]"
      ]
     },
     "execution_count": 136,
     "metadata": {},
     "output_type": "execute_result"
    }
   ],
   "source": [
    "df3 = df2.copy()\n",
    "df3 = df3.drop(columns=['J'])\n",
    "df3"
   ]
  },
  {
   "cell_type": "markdown",
   "metadata": {},
   "source": [
    "<font color='darkblue'>\n",
    "Handling missing values: for the remaining features with missing values I will impute mean or median values depending on histogram distribution."
   ]
  },
  {
   "cell_type": "code",
   "execution_count": 137,
   "metadata": {},
   "outputs": [
    {
     "name": "stdout",
     "output_type": "stream",
     "text": [
      "Histogram for P:\n"
     ]
    },
    {
     "data": {
      "image/png": "[encoded data removed]",
      "text/plain": [
       "<Figure size 432x288 with 1 Axes>"
      ]
     },
     "metadata": {
      "needs_background": "light"
     },
     "output_type": "display_data"
    },
    {
     "name": "stdout",
     "output_type": "stream",
     "text": [
      "Histogram for T:\n"
     ]
    },
    {
     "data": {
      "image/png": "[encoded data removed]",
      "text/plain": [
       "<Figure size 432x288 with 1 Axes>"
      ]
     },
     "metadata": {
      "needs_background": "light"
     },
     "output_type": "display_data"
    },
    {
     "name": "stdout",
     "output_type": "stream",
     "text": [
      "Histogram for QRST:\n"
     ]
    },
    {
     "data": {
      "image/png": "[encoded data removed]",
      "text/plain": [
       "<Figure size 432x288 with 1 Axes>"
      ]
     },
     "metadata": {
      "needs_background": "light"
     },
     "output_type": "display_data"
    },
    {
     "name": "stdout",
     "output_type": "stream",
     "text": [
      "Histogram for Heart rate bpm:\n"
     ]
    },
    {
     "data": {
      "image/png": "[encoded data removed]",
      "text/plain": [
       "<Figure size 432x288 with 1 Axes>"
      ]
     },
     "metadata": {
      "needs_background": "light"
     },
     "output_type": "display_data"
    }
   ],
   "source": [
    "missing_features = ['P','T','QRST','Heart rate bpm'] #list pf features with missing data\n",
    "\n",
    "for feature in missing_features: print_hist(df3,feature,30)"
   ]
  },
  {
   "cell_type": "markdown",
   "metadata": {},
   "source": [
    "<font color='darkblue'>\n",
    "All histograms seem to be skewed so I will impute median values using sci-kit library \"impute\". "
   ]
  },
  {
   "cell_type": "code",
   "execution_count": 138,
   "metadata": {},
   "outputs": [],
   "source": [
    "from sklearn.impute import SimpleImputer\n",
    "\n",
    "df4 = df3.copy() #create a new copy of the dataset\n",
    "X_df = df4.loc[:,df4.columns != 'Class'] #select all features except target feature\n",
    "X = np.array(X_df) #convert it to array (Simple Imputer doesn't work with dataframes)\n",
    "imp = SimpleImputer(missing_values=np.nan, strategy='median') #create imp object to impute median in all missing values \n",
    "imp = imp.fit(X) #calculate median values of the features with missing values\n",
    "X_imp = imp.transform(X) #fill dataset with median values wherever finds missing values"
   ]
  },
  {
   "cell_type": "markdown",
   "metadata": {},
   "source": [
    "<font color='darkblue'>\n",
    "Check if there are any missing values:"
   ]
  },
  {
   "cell_type": "code",
   "execution_count": 139,
   "metadata": {},
   "outputs": [
    {
     "data": {
      "text/plain": [
       "0"
      ]
     },
     "execution_count": 139,
     "metadata": {},
     "output_type": "execute_result"
    }
   ],
   "source": [
    "np.isnan(X_imp).sum().sum() #total number of missing values in the dataset"
   ]
  },
  {
   "cell_type": "markdown",
   "metadata": {},
   "source": [
    "<font color='darkblue'> \n",
    "### Predictions <br>"
   ]
  },
  {
   "cell_type": "markdown",
   "metadata": {},
   "source": [
    "<font color='darkblue'>\n",
    "I will start by splitting the dataset in train and test sets. Note that I set random_state = 1 so I ensure that if I need to do another split later this seed will be kept constant so the same instances are splitted."
   ]
  },
  {
   "cell_type": "code",
   "execution_count": 140,
   "metadata": {},
   "outputs": [
    {
     "name": "stdout",
     "output_type": "stream",
     "text": [
      "(316, 261)\n",
      "(136, 261)\n",
      "(316,)\n",
      "(136,)\n"
     ]
    }
   ],
   "source": [
    "from sklearn.model_selection import train_test_split\n",
    "\n",
    "y = df4.iloc[:,-1] #subset target label\n",
    "\n",
    "# splitting train and test data with same seed (random_state=1)\n",
    "X_train, X_test, y_train, y_test = train_test_split(X_imp, y, test_size=0.3, random_state=1) #70%/30% splitting\n",
    "\n",
    "print(X_train.shape)\n",
    "print(X_test.shape)\n",
    "print(y_train.shape)\n",
    "print(y_test.shape)"
   ]
  },
  {
   "cell_type": "markdown",
   "metadata": {},
   "source": [
    "<font color='darkblue'>\n",
    "In code below I will count the number of instances in test set that belong to each class. This is important for the interpretation of the confusion matrix."
   ]
  },
  {
   "cell_type": "code",
   "execution_count": 141,
   "metadata": {},
   "outputs": [
    {
     "name": "stdout",
     "output_type": "stream",
     "text": [
      "Normal instances in test set: 73\n",
      "Risk instances in test set: 63\n"
     ]
    }
   ],
   "source": [
    "print('Normal instances in test set: ' + str(sum(y_test==\"Normal\")))\n",
    "print('Risk instances in test set: ' + str(sum(y_test==\"Risk\"))) "
   ]
  },
  {
   "cell_type": "markdown",
   "metadata": {},
   "source": [
    "<font color='darkblue'>\n",
    "In code below I will create my baseline model. I will use random_state = 1 in the classifier and in the further classifiers below so I can make a fair comparison when evaluating performance each time I fit the model to the data."
   ]
  },
  {
   "cell_type": "code",
   "execution_count": 142,
   "metadata": {},
   "outputs": [
    {
     "name": "stdout",
     "output_type": "stream",
     "text": [
      "Confusion matrix:\n",
      "[[53 20]\n",
      " [18 45]]\n",
      "Accuracy: 72.06%\n"
     ]
    }
   ],
   "source": [
    "#create classifier object\n",
    "from sklearn.ensemble import RandomForestClassifier\n",
    "\n",
    "clf1 = RandomForestClassifier(n_estimators=10,random_state=1) #create classifier object\n",
    "fit_model1 = clf1.fit(X_train,y_train) #train classifier\n",
    "y_pred = fit_model1.predict(X_test) #create predictions vector\n",
    "\n",
    "cm_m1 = metrics.confusion_matrix(y_test,y_pred)\n",
    "print(\"Confusion matrix:\")\n",
    "print(cm_m1)\n",
    "\n",
    "print(\"Accuracy: \" + str(round(metrics.accuracy_score(y_test, y_pred)*100,2))+\"%\")"
   ]
  },
  {
   "cell_type": "markdown",
   "metadata": {},
   "source": [
    "<font color='darkblue'>\n",
    "Feature selection"
   ]
  },
  {
   "cell_type": "markdown",
   "metadata": {},
   "source": [
    "<font color='darkblue'>\n",
    "As this is a high dimensional dataset (this is the case of a sparsely populated feature space where there are few instances for  many features) and based on the information that some attributes have strong correlation with others I will perform a feature selection."
   ]
  },
  {
   "cell_type": "markdown",
   "metadata": {},
   "source": [
    "<font color='darkblue'>\n",
    "I will first normalize all the values using a range [0,1] normalization to avoid negative values in the chi-square test. Chi-square scores will give me an idea of how related each features are with the target feature."
   ]
  },
  {
   "cell_type": "code",
   "execution_count": 143,
   "metadata": {},
   "outputs": [],
   "source": [
    "from sklearn.preprocessing import MinMaxScaler\n",
    "\n",
    "scaler = MinMaxScaler() #MinMaxScaler default is [0,1] normalization of features\n",
    "X_norm = scaler.fit_transform(X_imp)"
   ]
  },
  {
   "cell_type": "markdown",
   "metadata": {},
   "source": [
    "<font color='darkblue'>\n",
    "Scores of each feature:"
   ]
  },
  {
   "cell_type": "code",
   "execution_count": 144,
   "metadata": {},
   "outputs": [
    {
     "name": "stdout",
     "output_type": "stream",
     "text": [
      "[ 0.005425 10.138491  0.018572  0.012606  2.556128  0.028024  0.000001\n",
      "  1.56365   0.143958  0.073812  0.000271  0.000301  0.007586  0.233573\n",
      "  0.190674  0.027255  2.492172  0.916179  0.157892  1.183575  0.067676\n",
      "  0.067676  2.36715   2.36715   4.7343    0.909555  0.003411  3.753681\n",
      "  0.059854  1.437198  0.197977  0.056946  5.073967  1.183575  0.014236\n",
      "  0.014236  1.852709  0.496177  0.23938   0.238964  0.277537  1.118729\n",
      "  0.517553  0.844898  0.704348  0.844898  3.572947  0.406353  2.36715\n",
      "  0.118254  3.048393  1.073832  2.158335  0.844898  1.252266  1.340388\n",
      "  2.36715   0.014236  2.36715   2.36715   4.7343    0.025426  0.464783\n",
      "  2.107428  0.00007   1.466595  0.899182  0.844898  1.183575  0.187722\n",
      "  1.183575  5.140612  0.020649  2.156372  0.622138  2.689943  0.694774\n",
      "  2.36715   0.339195  0.844898  0.844898  1.183575  4.689063  0.087597\n",
      "  1.651834 17.237456  0.724852  4.643192  3.550725  8.285024  0.028473\n",
      "  1.374268  0.067676  0.071182 13.82464   0.007354  0.365345  9.666134\n",
      "  2.958937  0.474109  1.374268  4.7343    3.405712  4.7343    4.7343\n",
      "  2.748536 18.105852  0.315259  0.225852  2.737544  1.972625  0.109349\n",
      "  3.213898  2.36715   3.550725  4.7343    3.550725  5.917874  6.096161\n",
      "  0.167765  0.878211  0.282235  0.370542  0.062358  2.36715   1.052798\n",
      "  2.36715   5.605008  3.891718  0.010169  0.351802  0.584475  0.231885\n",
      "  3.550725  0.844898  0.526399  2.195923  0.014121  0.466136  0.262644\n",
      "  0.371034  0.844898  1.183575  0.014236  0.406353  0.0403    0.01769\n",
      "  0.033482  0.229586  1.121128  0.040023  0.528342  0.022433  1.083292\n",
      "  0.050136  0.24652   0.410608  0.236641  0.230704  0.008518  0.082191\n",
      "  0.587023  0.350228  1.109196  0.027941  0.137331  0.278962  0.13883\n",
      "  0.463704  0.007446  0.017471  0.025594  0.038996  0.000135  0.165177\n",
      "  0.544157  2.26926   0.0774    2.702956  0.001873  0.034507  1.717668\n",
      "  0.105319  1.413703  0.017348  0.004362  0.835871  0.21449   0.032287\n",
      "  0.016233  0.294177  0.008448  0.307977  0.022785  0.342492  0.020916\n",
      "  0.218951  1.183414  0.00983   0.021882  0.054217  0.270784  0.329812\n",
      "  0.036196  0.22161   0.88761   0.043715  7.26959   0.002291  0.042786\n",
      "  0.235681  0.004513  0.259459  0.019394  0.307332  0.191691  0.011071\n",
      "  4.500869  0.008518  0.000586  0.098582  0.058592  0.324924  0.058125\n",
      "  0.206855  0.27348   0.266124  1.721597  0.003115  0.014782  0.080351\n",
      "  0.217177  0.676734  0.018953  0.072868  0.036391  0.219033  1.045211\n",
      "  0.001024  0.014684  0.148367  0.318452  0.297353  0.068132  0.059458\n",
      "  0.003173  0.07642   1.007015  0.008527  0.688071  0.105122  0.513394\n",
      "  0.091068  0.249709  0.08808   0.030853  0.294286  0.008207  0.87088\n",
      "  0.061473  0.968501]\n"
     ]
    }
   ],
   "source": [
    "from sklearn.feature_selection import SelectKBest\n",
    "from sklearn.feature_selection import chi2\n",
    "\n",
    "feat_test = SelectKBest(score_func=chi2, k=100) # k = 100 is not important at this stage (I just want to check the scores)\n",
    "\n",
    "feat_fit = feat_test.fit(X_norm,y) # chi2 test over all normalised dataset\n",
    "\n",
    "np.set_printoptions(precision=6, suppress=True) # set precision and avoid scientific notation for scores print\n",
    "scores = feat_fit.scores_ \n",
    "print(scores)"
   ]
  },
  {
   "cell_type": "markdown",
   "metadata": {},
   "source": [
    "<font color='darkblue'>\n",
    "From the output above, features with a higher score are more related with the target feature. There are some features where chi-square score was almost zero which mean that a feature selection process should eliminate those features."
   ]
  },
  {
   "cell_type": "markdown",
   "metadata": {},
   "source": [
    "<font color='darkblue'>\n",
    "We can also antecipate from the correlation plot below that there are quite a few instances that are correlated (in yellow) and might be redundant and consequently eliminated in a feature selection process."
   ]
  },
  {
   "cell_type": "code",
   "execution_count": 145,
   "metadata": {},
   "outputs": [
    {
     "data": {
      "image/png": "[encoded data removed]",
      "text/plain": [
       "<Figure size 1368x1080 with 2 Axes>"
      ]
     },
     "metadata": {
      "needs_background": "light"
     },
     "output_type": "display_data"
    }
   ],
   "source": [
    "f = plt.figure(figsize=(19, 15))\n",
    "plt.matshow(df4.corr(), fignum=f.number)\n",
    "#plt.xticks(range(df4.shape[1]), df4.columns, fontsize=14, rotation=45)\n",
    "#plt.yticks(range(df4.shape[1]), df4.columns, fontsize=14)\n",
    "cb = plt.colorbar()\n",
    "cb.ax.tick_params(labelsize=14)\n",
    "plt.title('Correlation Matrix', fontsize=16);"
   ]
  },
  {
   "cell_type": "markdown",
   "metadata": {},
   "source": [
    "<font color='darkblue'>\n",
    "Before going to feature selection process itself I will train and evaluate again my model with normalized instances (and same seeds) to obtain a baseline model."
   ]
  },
  {
   "cell_type": "code",
   "execution_count": 146,
   "metadata": {},
   "outputs": [
    {
     "name": "stdout",
     "output_type": "stream",
     "text": [
      "Normal instances in test set: 73\n",
      "Risk instances in test set: 63\n",
      "Confusion matrix (normalized dataset):\n",
      "[[52 21]\n",
      " [18 45]]\n",
      "Accuracy: 71.32%\n"
     ]
    }
   ],
   "source": [
    "# splitting train and test data with same seed (random_state=1)\n",
    "X_train2, X_test2, y_train2, y_test2 = train_test_split(X_norm, y, test_size=0.3, random_state=1) #70%/30% splitting\n",
    "\n",
    "print('Normal instances in test set: ' + str(sum(y_test2==\"Normal\")))\n",
    "print('Risk instances in test set: ' + str(sum(y_test2==\"Risk\")))\n",
    "\n",
    "fit_model2 = clf1.fit(X_train2,y_train2) #train classifier\n",
    "y_pred2 = fit_model2.predict(X_test2) #create predictions vector\n",
    "\n",
    "cm_m2 = metrics.confusion_matrix(y_test2,y_pred2)\n",
    "print(\"Confusion matrix (normalized dataset):\")\n",
    "print(cm_m2)\n",
    "\n",
    "print(\"Accuracy: \" + str(round(metrics.accuracy_score(y_test2, y_pred2)*100,2))+\"%\")"
   ]
  },
  {
   "cell_type": "markdown",
   "metadata": {},
   "source": [
    "<font color='darkblue'>\n",
    "From the output above, accuracy has slighly decreased after normalization (there was an extra instance predicted as \"Risk\" being \"Normal\")."
   ]
  },
  {
   "cell_type": "markdown",
   "metadata": {},
   "source": [
    "<font color='darkblue'>\n",
    "In the code chunk below, I will go through the feature selection process. I will use Recursive Feature Elimination (RFE) which is a type of wrapper feature selection method. According with Kelleher et al, 2013 (Galaxy classification case study Page 503), feature selection approaches that search through subsets of features (known as wrapper approaches) are better at removing redundant features together than rank prune approaches because they consider groups of features together. <br>\n",
    "    \n",
    "It is important to refer that I will do a feature selection using the instances from the previous normalized training set and not the entire dataset. This ensures that not only predictions but also the feature selection process of my model are made over unseen instances and that avoids any potential bias arising from the feature selection process. "
   ]
  },
  {
   "cell_type": "code",
   "execution_count": 147,
   "metadata": {},
   "outputs": [
    {
     "name": "stdout",
     "output_type": "stream",
     "text": [
      "[51.471, 64.706, 72.059, 78.676, 75.0, 74.265, 77.941, 77.206, 75.0, 77.941, 73.529, 76.471, 76.471, 80.882, 75.735, 77.206, 70.588, 77.941, 80.147, 77.941, 80.147, 75.0, 72.794, 71.324, 75.0, 77.941, 75.0, 76.471, 75.0, 72.059, 78.676, 74.265, 72.794, 75.0, 80.147, 77.206, 77.206, 76.471, 72.794, 83.088, 72.059, 76.471, 78.676, 72.794, 76.471, 75.735, 72.059, 75.0, 74.265, 78.676, 71.324, 76.471, 77.941, 77.941, 74.265, 76.471, 78.676, 79.412, 76.471, 77.206, 77.206, 77.206, 75.0, 78.676, 72.059, 72.794, 75.0, 78.676, 75.735, 76.471, 75.735, 70.588, 76.471, 81.618, 75.735, 75.0, 77.206, 75.735, 76.471, 78.676, 75.735, 76.471, 71.324, 79.412, 72.794, 72.059, 76.471, 78.676, 78.676, 78.676, 76.471, 75.735, 76.471, 68.382, 77.206, 82.353, 78.676, 76.471, 72.059, 74.265, 79.412, 76.471, 70.588, 77.206, 77.206, 80.882, 72.794, 81.618, 83.088, 75.735, 76.471, 76.471, 77.941, 79.412, 77.206, 73.529, 76.471, 77.941, 75.735, 72.794, 75.735, 75.0, 75.0, 82.353, 79.412, 75.735, 77.941, 71.324, 72.059, 72.794, 73.529, 78.676, 74.265, 77.941, 69.853, 73.529, 72.059, 73.529, 80.147, 76.471, 73.529, 75.735, 76.471, 75.0, 80.147, 75.0, 75.735, 74.265, 82.353, 75.0, 77.941, 76.471, 74.265, 76.471, 77.206, 74.265, 77.206, 72.794, 72.059, 78.676, 77.206, 74.265, 75.735, 80.147, 79.412, 75.0, 77.206, 71.324, 72.794, 75.735, 73.529, 69.853, 71.324, 72.059, 75.0, 72.794, 73.529, 79.412, 73.529, 75.735, 74.265, 77.941, 72.794, 73.529, 74.265, 73.529, 75.735, 76.471, 73.529, 81.618, 69.853, 75.0, 77.206, 75.0, 73.529, 80.882, 76.471, 79.412, 74.265, 77.206, 80.147, 81.618, 75.735, 78.676, 75.0, 77.206, 77.206, 77.206, 80.882, 77.941, 77.941, 75.0, 76.471, 76.471, 75.735, 70.588, 75.735, 72.794, 74.265, 71.324, 78.676, 80.882, 73.529, 80.882, 75.735, 70.588, 75.0, 77.941, 77.206, 75.0, 77.941, 70.588, 77.206, 73.529, 80.147, 75.0, 76.471, 71.324, 77.206, 80.882, 74.265, 76.471, 75.0, 70.588, 77.206, 77.206, 77.941, 79.412, 75.735, 69.853, 75.735, 76.471, 74.265, 76.471, 82.353, 78.676, 69.118, 77.941, 74.265, 72.794, 71.324]\n"
     ]
    }
   ],
   "source": [
    "from sklearn.feature_selection import RFE\n",
    "\n",
    "#define a function to train and evaluate a random forest algorithm in a reduced feature space varying the number of features\n",
    "# and recursively selecting the optimal subset of features using RFE (Feature ranking with recursive feature elimination) \n",
    "#from skelearn\n",
    "\n",
    "def evaluate_feature_reduction_RFE(nfeat):\n",
    "\n",
    "    selector = RFE(clf1,n_features_to_select=nfeat) # n_features_to_select (number of features) will vary\n",
    "\n",
    "    best_feats = selector.fit(X_train2, y_train2) #get k best features from normalized training dataset (not all dataset!)\n",
    "\n",
    "    cols = best_feats.get_support(indices=True) # get best columns indexes to use later when selecting test subset\n",
    "\n",
    "    X_train_reduced = best_feats.transform(X_train2)  # get train dataframe with feature reduction\n",
    "\n",
    "    fit_model3 = clf1.fit(X_train_reduced, y_train2) # train model with feature reduction\n",
    "\n",
    "    X_test3 = X_test2[:,cols] #select same best columns from the unseen test set using indexes stored previously\n",
    "\n",
    "    y_pred3 = fit_model3.predict(X_test3) #make predictions with unseen instances and those that weren't used in feature selection\n",
    "\n",
    "    accuracy = round(metrics.accuracy_score(y_test2,y_pred3)*100,3) #compute accuracy for model with k subset of features\n",
    "    \n",
    "    return accuracy\n",
    "\n",
    "accuracies = [evaluate_feature_reduction_RFE(i) for i in range(1,X_train2.shape[1]+1)]\n",
    "\n",
    "print(accuracies)"
   ]
  },
  {
   "cell_type": "markdown",
   "metadata": {},
   "source": [
    "<font color='darkblue'>\n",
    "Getting the maximum value of accuracy and number of features used to achieve it:"
   ]
  },
  {
   "cell_type": "code",
   "execution_count": 148,
   "metadata": {},
   "outputs": [
    {
     "name": "stdout",
     "output_type": "stream",
     "text": [
      "Highest accuracy obtained with 40 features\n"
     ]
    }
   ],
   "source": [
    "best_nfeat = np.argmax(np.array(accuracies))+1\n",
    "print(\"Highest accuracy obtained with \" + str(best_nfeat) + \" features\")\n"
   ]
  },
  {
   "cell_type": "markdown",
   "metadata": {},
   "source": [
    "<font color='darkblue'>\n",
    "    \n",
    "### Evaluation <br>\n"
   ]
  },
  {
   "cell_type": "markdown",
   "metadata": {},
   "source": [
    "<font color='darkblue'>\n",
    "On the evaluation step I will evaluate my model with the optimal reduced subset of features (40 features)."
   ]
  },
  {
   "cell_type": "code",
   "execution_count": 149,
   "metadata": {},
   "outputs": [
    {
     "name": "stdout",
     "output_type": "stream",
     "text": [
      "Confusion matrix (reduced dataset):\n",
      "[[68  5]\n",
      " [18 45]]\n",
      "Accuracy: 83.088%\n"
     ]
    }
   ],
   "source": [
    "selector = RFE(clf1,n_features_to_select=best_nfeat) #best number of features\n",
    "best_feats = selector.fit(X_train2, y_train2) #get best features from normalized training dataset (not all dataset!)\n",
    "cols = best_feats.get_support(indices=True) # get best columns indexes to use later when selecting test subset\n",
    "X_train_reduced = best_feats.transform(X_train2)  # get train dataframe with feature reduction\n",
    "fit_model3 = clf1.fit(X_train_reduced, y_train2) # train model with feature reduction\n",
    "X_test3 = X_test2[:,cols] #select same best columns from the unseen test set using indexes stored previously\n",
    "y_pred3 = fit_model3.predict(X_test3) #make predictions with unseen instances and those that weren't used in feature selection\n",
    "accuracy = round(metrics.accuracy_score(y_test2,y_pred3)*100,3) #compute accuracy for model with 40 features\n",
    "\n",
    "cm_m3 = metrics.confusion_matrix(y_test2,y_pred3)\n",
    "print(\"Confusion matrix (reduced dataset):\")\n",
    "print(cm_m3)\n",
    "print(\"Accuracy: \" + str(accuracy)+\"%\")\n"
   ]
  },
  {
   "cell_type": "markdown",
   "metadata": {},
   "source": [
    "<font color='darkblue'>\n",
    "I will also compute average class accuracy in cell below. In fact there are some instances predicted as \"Normal\" when in fact they are \"Risk\" class instances."
   ]
  },
  {
   "cell_type": "code",
   "execution_count": 150,
   "metadata": {},
   "outputs": [
    {
     "name": "stdout",
     "output_type": "stream",
     "text": [
      "Average class accuracy: 82.29%\n"
     ]
    }
   ],
   "source": [
    "print(\"Average class accuracy: \" + str(round(calc_avg_class_acc_am(cm_m3)*100,2)) + \"%\")"
   ]
  },
  {
   "cell_type": "markdown",
   "metadata": {},
   "source": [
    "<font color='darkblue'>\n",
    "Finally, in cell below I compute the area under the Receiver Operating Characteristic Curve (ROC AUC) from the prediction scores. This model achieves a value (0.864) well above 0.5 (which would be a random prediction model)."
   ]
  },
  {
   "cell_type": "code",
   "execution_count": 151,
   "metadata": {},
   "outputs": [
    {
     "name": "stdout",
     "output_type": "stream",
     "text": [
      "ROC:0.864\n"
     ]
    }
   ],
   "source": [
    "from sklearn.metrics import roc_auc_score\n",
    "\n",
    "y_pred_prob = fit_model3.predict_proba(X_test3) #prediction probabilities vector [P(Normal), P(Risk)]\n",
    "\n",
    "print('ROC:' + str(round(roc_auc_score(y_test2, y_pred_prob[:,1]),3)))\n"
   ]
  },
  {
   "cell_type": "markdown",
   "metadata": {},
   "source": [
    "<font color='darkblue'>\n",
    "The fact that the model uses only 40 features instead of the total 279 descriptive features is a very important gain in terms of computational resources saved, especially if the dataset increases or if the model becomes stale (due to concept drift, for example) and a lazy algorithm is preferred. I would monitor the cases of false negatives and if this figure increased I would investigate further, once it is an unwanted situation in medical diagnosis. I also would monitor the outputs of the model over time and if significant deviations from the original outputs occured, the implementation of a stability index would help me to identify concept drift. Finally, whenever the representativeness of all classes achieved acceptable levels, I could develop an extended version of the model to discriminate the different classes of arrythmia in a multi-class prediction problem."
   ]
  }
 ],
 "metadata": {
  "kernelspec": {
   "display_name": "Python 3",
   "language": "python",
   "name": "python3"
  },
  "language_info": {
   "codemirror_mode": {
    "name": "ipython",
    "version": 3
   },
   "file_extension": ".py",
   "mimetype": "text/x-python",
   "name": "python",
   "nbconvert_exporter": "python",
   "pygments_lexer": "ipython3",
   "version": "3.7.4"
  }
 },
 "nbformat": 4,
 "nbformat_minor": 2
}
