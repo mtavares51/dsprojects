{
 "cells": [
  {
   "cell_type": "markdown",
   "metadata": {},
   "source": [
    "## COMPETITION: Porto Seguro’s Safe Driver Prediction"
   ]
  },
  {
   "cell_type": "code",
   "execution_count": 1,
   "metadata": {},
   "outputs": [],
   "source": [
    "#importing libraries\n",
    "import pandas as pd\n",
    "import numpy as np\n",
    "from sklearn.model_selection import train_test_split\n",
    "from xgboost import XGBClassifier\n",
    "from sklearn import metrics\n"
   ]
  },
  {
   "cell_type": "code",
   "execution_count": 2,
   "metadata": {},
   "outputs": [
    {
     "data": {
      "text/html": [
       "<div>\n",
       "<style scoped>\n",
       "    .dataframe tbody tr th:only-of-type {\n",
       "        vertical-align: middle;\n",
       "    }\n",
       "\n",
       "    .dataframe tbody tr th {\n",
       "        vertical-align: top;\n",
       "    }\n",
       "\n",
       "    .dataframe thead th {\n",
       "        text-align: right;\n",
       "    }\n",
       "</style>\n",
       "<table border=\"1\" class=\"dataframe\">\n",
       "  <thead>\n",
       "    <tr style=\"text-align: right;\">\n",
       "      <th></th>\n",
       "      <th>id</th>\n",
       "      <th>target</th>\n",
       "      <th>ps_ind_01</th>\n",
       "      <th>ps_ind_02_cat</th>\n",
       "      <th>ps_ind_03</th>\n",
       "      <th>ps_ind_04_cat</th>\n",
       "      <th>ps_ind_05_cat</th>\n",
       "      <th>ps_ind_06_bin</th>\n",
       "      <th>ps_ind_07_bin</th>\n",
       "      <th>ps_ind_08_bin</th>\n",
       "      <th>...</th>\n",
       "      <th>ps_calc_11</th>\n",
       "      <th>ps_calc_12</th>\n",
       "      <th>ps_calc_13</th>\n",
       "      <th>ps_calc_14</th>\n",
       "      <th>ps_calc_15_bin</th>\n",
       "      <th>ps_calc_16_bin</th>\n",
       "      <th>ps_calc_17_bin</th>\n",
       "      <th>ps_calc_18_bin</th>\n",
       "      <th>ps_calc_19_bin</th>\n",
       "      <th>ps_calc_20_bin</th>\n",
       "    </tr>\n",
       "  </thead>\n",
       "  <tbody>\n",
       "    <tr>\n",
       "      <td>0</td>\n",
       "      <td>7</td>\n",
       "      <td>0</td>\n",
       "      <td>2</td>\n",
       "      <td>2</td>\n",
       "      <td>5</td>\n",
       "      <td>1</td>\n",
       "      <td>0</td>\n",
       "      <td>0</td>\n",
       "      <td>1</td>\n",
       "      <td>0</td>\n",
       "      <td>...</td>\n",
       "      <td>9</td>\n",
       "      <td>1</td>\n",
       "      <td>5</td>\n",
       "      <td>8</td>\n",
       "      <td>0</td>\n",
       "      <td>1</td>\n",
       "      <td>1</td>\n",
       "      <td>0</td>\n",
       "      <td>0</td>\n",
       "      <td>1</td>\n",
       "    </tr>\n",
       "    <tr>\n",
       "      <td>1</td>\n",
       "      <td>9</td>\n",
       "      <td>0</td>\n",
       "      <td>1</td>\n",
       "      <td>1</td>\n",
       "      <td>7</td>\n",
       "      <td>0</td>\n",
       "      <td>0</td>\n",
       "      <td>0</td>\n",
       "      <td>0</td>\n",
       "      <td>1</td>\n",
       "      <td>...</td>\n",
       "      <td>3</td>\n",
       "      <td>1</td>\n",
       "      <td>1</td>\n",
       "      <td>9</td>\n",
       "      <td>0</td>\n",
       "      <td>1</td>\n",
       "      <td>1</td>\n",
       "      <td>0</td>\n",
       "      <td>1</td>\n",
       "      <td>0</td>\n",
       "    </tr>\n",
       "    <tr>\n",
       "      <td>2</td>\n",
       "      <td>13</td>\n",
       "      <td>0</td>\n",
       "      <td>5</td>\n",
       "      <td>4</td>\n",
       "      <td>9</td>\n",
       "      <td>1</td>\n",
       "      <td>0</td>\n",
       "      <td>0</td>\n",
       "      <td>0</td>\n",
       "      <td>1</td>\n",
       "      <td>...</td>\n",
       "      <td>4</td>\n",
       "      <td>2</td>\n",
       "      <td>7</td>\n",
       "      <td>7</td>\n",
       "      <td>0</td>\n",
       "      <td>1</td>\n",
       "      <td>1</td>\n",
       "      <td>0</td>\n",
       "      <td>1</td>\n",
       "      <td>0</td>\n",
       "    </tr>\n",
       "    <tr>\n",
       "      <td>3</td>\n",
       "      <td>16</td>\n",
       "      <td>0</td>\n",
       "      <td>0</td>\n",
       "      <td>1</td>\n",
       "      <td>2</td>\n",
       "      <td>0</td>\n",
       "      <td>0</td>\n",
       "      <td>1</td>\n",
       "      <td>0</td>\n",
       "      <td>0</td>\n",
       "      <td>...</td>\n",
       "      <td>2</td>\n",
       "      <td>2</td>\n",
       "      <td>4</td>\n",
       "      <td>9</td>\n",
       "      <td>0</td>\n",
       "      <td>0</td>\n",
       "      <td>0</td>\n",
       "      <td>0</td>\n",
       "      <td>0</td>\n",
       "      <td>0</td>\n",
       "    </tr>\n",
       "    <tr>\n",
       "      <td>4</td>\n",
       "      <td>17</td>\n",
       "      <td>0</td>\n",
       "      <td>0</td>\n",
       "      <td>2</td>\n",
       "      <td>0</td>\n",
       "      <td>1</td>\n",
       "      <td>0</td>\n",
       "      <td>1</td>\n",
       "      <td>0</td>\n",
       "      <td>0</td>\n",
       "      <td>...</td>\n",
       "      <td>3</td>\n",
       "      <td>1</td>\n",
       "      <td>1</td>\n",
       "      <td>3</td>\n",
       "      <td>0</td>\n",
       "      <td>0</td>\n",
       "      <td>0</td>\n",
       "      <td>1</td>\n",
       "      <td>1</td>\n",
       "      <td>0</td>\n",
       "    </tr>\n",
       "    <tr>\n",
       "      <td>...</td>\n",
       "      <td>...</td>\n",
       "      <td>...</td>\n",
       "      <td>...</td>\n",
       "      <td>...</td>\n",
       "      <td>...</td>\n",
       "      <td>...</td>\n",
       "      <td>...</td>\n",
       "      <td>...</td>\n",
       "      <td>...</td>\n",
       "      <td>...</td>\n",
       "      <td>...</td>\n",
       "      <td>...</td>\n",
       "      <td>...</td>\n",
       "      <td>...</td>\n",
       "      <td>...</td>\n",
       "      <td>...</td>\n",
       "      <td>...</td>\n",
       "      <td>...</td>\n",
       "      <td>...</td>\n",
       "      <td>...</td>\n",
       "      <td>...</td>\n",
       "    </tr>\n",
       "    <tr>\n",
       "      <td>595207</td>\n",
       "      <td>1488013</td>\n",
       "      <td>0</td>\n",
       "      <td>3</td>\n",
       "      <td>1</td>\n",
       "      <td>10</td>\n",
       "      <td>0</td>\n",
       "      <td>0</td>\n",
       "      <td>0</td>\n",
       "      <td>0</td>\n",
       "      <td>0</td>\n",
       "      <td>...</td>\n",
       "      <td>4</td>\n",
       "      <td>1</td>\n",
       "      <td>9</td>\n",
       "      <td>6</td>\n",
       "      <td>0</td>\n",
       "      <td>1</td>\n",
       "      <td>1</td>\n",
       "      <td>0</td>\n",
       "      <td>1</td>\n",
       "      <td>1</td>\n",
       "    </tr>\n",
       "    <tr>\n",
       "      <td>595208</td>\n",
       "      <td>1488016</td>\n",
       "      <td>0</td>\n",
       "      <td>5</td>\n",
       "      <td>1</td>\n",
       "      <td>3</td>\n",
       "      <td>0</td>\n",
       "      <td>0</td>\n",
       "      <td>0</td>\n",
       "      <td>0</td>\n",
       "      <td>0</td>\n",
       "      <td>...</td>\n",
       "      <td>4</td>\n",
       "      <td>1</td>\n",
       "      <td>3</td>\n",
       "      <td>8</td>\n",
       "      <td>1</td>\n",
       "      <td>0</td>\n",
       "      <td>1</td>\n",
       "      <td>0</td>\n",
       "      <td>1</td>\n",
       "      <td>1</td>\n",
       "    </tr>\n",
       "    <tr>\n",
       "      <td>595209</td>\n",
       "      <td>1488017</td>\n",
       "      <td>0</td>\n",
       "      <td>1</td>\n",
       "      <td>1</td>\n",
       "      <td>10</td>\n",
       "      <td>0</td>\n",
       "      <td>0</td>\n",
       "      <td>1</td>\n",
       "      <td>0</td>\n",
       "      <td>0</td>\n",
       "      <td>...</td>\n",
       "      <td>3</td>\n",
       "      <td>2</td>\n",
       "      <td>2</td>\n",
       "      <td>6</td>\n",
       "      <td>0</td>\n",
       "      <td>0</td>\n",
       "      <td>1</td>\n",
       "      <td>0</td>\n",
       "      <td>0</td>\n",
       "      <td>0</td>\n",
       "    </tr>\n",
       "    <tr>\n",
       "      <td>595210</td>\n",
       "      <td>1488021</td>\n",
       "      <td>0</td>\n",
       "      <td>5</td>\n",
       "      <td>2</td>\n",
       "      <td>3</td>\n",
       "      <td>1</td>\n",
       "      <td>0</td>\n",
       "      <td>0</td>\n",
       "      <td>0</td>\n",
       "      <td>1</td>\n",
       "      <td>...</td>\n",
       "      <td>4</td>\n",
       "      <td>1</td>\n",
       "      <td>4</td>\n",
       "      <td>2</td>\n",
       "      <td>0</td>\n",
       "      <td>1</td>\n",
       "      <td>1</td>\n",
       "      <td>1</td>\n",
       "      <td>0</td>\n",
       "      <td>0</td>\n",
       "    </tr>\n",
       "    <tr>\n",
       "      <td>595211</td>\n",
       "      <td>1488027</td>\n",
       "      <td>0</td>\n",
       "      <td>0</td>\n",
       "      <td>1</td>\n",
       "      <td>8</td>\n",
       "      <td>0</td>\n",
       "      <td>0</td>\n",
       "      <td>1</td>\n",
       "      <td>0</td>\n",
       "      <td>0</td>\n",
       "      <td>...</td>\n",
       "      <td>4</td>\n",
       "      <td>4</td>\n",
       "      <td>3</td>\n",
       "      <td>8</td>\n",
       "      <td>0</td>\n",
       "      <td>1</td>\n",
       "      <td>0</td>\n",
       "      <td>0</td>\n",
       "      <td>0</td>\n",
       "      <td>0</td>\n",
       "    </tr>\n",
       "  </tbody>\n",
       "</table>\n",
       "<p>595212 rows × 58 columns</p>\n",
       "</div>"
      ],
      "text/plain": [
       "             id  target  ps_ind_01  ps_ind_02_cat  ps_ind_03  ps_ind_04_cat  \\\n",
       "0             7       0          2              2          5              1   \n",
       "1             9       0          1              1          7              0   \n",
       "2            13       0          5              4          9              1   \n",
       "3            16       0          0              1          2              0   \n",
       "4            17       0          0              2          0              1   \n",
       "...         ...     ...        ...            ...        ...            ...   \n",
       "595207  1488013       0          3              1         10              0   \n",
       "595208  1488016       0          5              1          3              0   \n",
       "595209  1488017       0          1              1         10              0   \n",
       "595210  1488021       0          5              2          3              1   \n",
       "595211  1488027       0          0              1          8              0   \n",
       "\n",
       "        ps_ind_05_cat  ps_ind_06_bin  ps_ind_07_bin  ps_ind_08_bin  ...  \\\n",
       "0                   0              0              1              0  ...   \n",
       "1                   0              0              0              1  ...   \n",
       "2                   0              0              0              1  ...   \n",
       "3                   0              1              0              0  ...   \n",
       "4                   0              1              0              0  ...   \n",
       "...               ...            ...            ...            ...  ...   \n",
       "595207              0              0              0              0  ...   \n",
       "595208              0              0              0              0  ...   \n",
       "595209              0              1              0              0  ...   \n",
       "595210              0              0              0              1  ...   \n",
       "595211              0              1              0              0  ...   \n",
       "\n",
       "        ps_calc_11  ps_calc_12  ps_calc_13  ps_calc_14  ps_calc_15_bin  \\\n",
       "0                9           1           5           8               0   \n",
       "1                3           1           1           9               0   \n",
       "2                4           2           7           7               0   \n",
       "3                2           2           4           9               0   \n",
       "4                3           1           1           3               0   \n",
       "...            ...         ...         ...         ...             ...   \n",
       "595207           4           1           9           6               0   \n",
       "595208           4           1           3           8               1   \n",
       "595209           3           2           2           6               0   \n",
       "595210           4           1           4           2               0   \n",
       "595211           4           4           3           8               0   \n",
       "\n",
       "        ps_calc_16_bin  ps_calc_17_bin  ps_calc_18_bin  ps_calc_19_bin  \\\n",
       "0                    1               1               0               0   \n",
       "1                    1               1               0               1   \n",
       "2                    1               1               0               1   \n",
       "3                    0               0               0               0   \n",
       "4                    0               0               1               1   \n",
       "...                ...             ...             ...             ...   \n",
       "595207               1               1               0               1   \n",
       "595208               0               1               0               1   \n",
       "595209               0               1               0               0   \n",
       "595210               1               1               1               0   \n",
       "595211               1               0               0               0   \n",
       "\n",
       "        ps_calc_20_bin  \n",
       "0                    1  \n",
       "1                    0  \n",
       "2                    0  \n",
       "3                    0  \n",
       "4                    0  \n",
       "...                ...  \n",
       "595207               1  \n",
       "595208               1  \n",
       "595209               0  \n",
       "595210               0  \n",
       "595211               0  \n",
       "\n",
       "[595212 rows x 58 columns]"
      ]
     },
     "execution_count": 2,
     "metadata": {},
     "output_type": "execute_result"
    }
   ],
   "source": [
    "# Load cleaned train dataset\n",
    "traindf = pd.read_csv(\"./traindf1.csv\") #this assumes that traindf1 was created running EDA_Porto_Seguro_gh.R script in R\n",
    "traindf"
   ]
  },
  {
   "cell_type": "markdown",
   "metadata": {},
   "source": [
    "### Prediction Iteration 1"
   ]
  },
  {
   "cell_type": "code",
   "execution_count": 3,
   "metadata": {},
   "outputs": [],
   "source": [
    "# Store feature subset and target vector in X, y with id info to use later if needed\n",
    "X = traindf.loc[:,traindf.columns != 'target']\n",
    "y = traindf.iloc[:,0:2]\n",
    "\n",
    "# splitting train and test data with same seed (random_state=1)\n",
    "X_train, X_test, y_train, y_test = train_test_split(X, y, test_size=0.3, random_state=1) #70%/30% splitting\n",
    "\n",
    "#create classifier object\n",
    "clf1 = XGBClassifier(random_state=1)\n",
    "\n",
    "#train classifier\n",
    "fit_model = clf1.fit(X_train.iloc[:,1:],y_train.iloc[:,1]) #train model with all features of train dataset except \"id\" feature\n",
    "\n",
    "#create predictions vector and prediction probabilities of class 1\n",
    "y_pred = fit_model.predict(X_test.iloc[:,1:]) #prediction vector with classes\n",
    "y_pred_prob = fit_model.predict_proba(X_test.iloc[:,1:]) #prediction probabilities vector [P(0), P(1)]\n",
    "\n",
    "# set up a 2-D array that has predictions and true (test) values side by side\n",
    "pred_vs_true  = np.c_[y_pred,y_test.iloc[:,1]]\n",
    "# convert it to dataframe to be readable in evaluation step\n",
    "pred_vs_true_df = pd.DataFrame(data=pred_vs_true,columns = [\"pred\",\"true\"]) \n",
    "\n"
   ]
  },
  {
   "cell_type": "markdown",
   "metadata": {},
   "source": [
    "### Evaluation (Iteration 1)"
   ]
  },
  {
   "cell_type": "markdown",
   "metadata": {},
   "source": [
    "Create a confusion matrix to represent model's performance (using my own implementation, not sklearn's) - this is the same exercise as lab 6 (evaluation) - question 4:"
   ]
  },
  {
   "cell_type": "code",
   "execution_count": 4,
   "metadata": {},
   "outputs": [
    {
     "data": {
      "text/html": [
       "<div>\n",
       "<style scoped>\n",
       "    .dataframe tbody tr th:only-of-type {\n",
       "        vertical-align: middle;\n",
       "    }\n",
       "\n",
       "    .dataframe tbody tr th {\n",
       "        vertical-align: top;\n",
       "    }\n",
       "\n",
       "    .dataframe thead th {\n",
       "        text-align: right;\n",
       "    }\n",
       "</style>\n",
       "<table border=\"1\" class=\"dataframe\">\n",
       "  <thead>\n",
       "    <tr style=\"text-align: right;\">\n",
       "      <th></th>\n",
       "      <th>0</th>\n",
       "      <th>1</th>\n",
       "    </tr>\n",
       "  </thead>\n",
       "  <tbody>\n",
       "    <tr>\n",
       "      <td>0</td>\n",
       "      <td>172094</td>\n",
       "      <td>0</td>\n",
       "    </tr>\n",
       "    <tr>\n",
       "      <td>1</td>\n",
       "      <td>6470</td>\n",
       "      <td>0</td>\n",
       "    </tr>\n",
       "  </tbody>\n",
       "</table>\n",
       "</div>"
      ],
      "text/plain": [
       "        0  1\n",
       "0  172094  0\n",
       "1    6470  0"
      ]
     },
     "execution_count": 4,
     "metadata": {},
     "output_type": "execute_result"
    }
   ],
   "source": [
    "# Create a confusion matrix to represent your model's performance (use your own implementation, not sklearn's)\n",
    "# (this is the same exercise as lab 6 (evaluation) - question 4)\n",
    "\n",
    "target_values = pd.unique(pred_vs_true_df[\"true\"])\n",
    "target_values = np.sort(target_values)\n",
    "\n",
    "#create an empty dataframe that will be our confusion matrix to update later\n",
    "confusion_matrix = pd.DataFrame(columns=target_values,index=target_values) \n",
    "\n",
    "#function that counts how many times [predicted values == true values] in a 2D array (predicted, true)\n",
    "def compare_values(array,predicted,true):\n",
    "    count = len(array.loc[(array[\"pred\"]==predicted) & (array[\"true\"]==true)]) \n",
    "    return count\n",
    "\n",
    "#function to set up a matrix using compare_values function defined before\n",
    "def set_matrix(pred_target_df):\n",
    "    for y in range(0,len(target_values)): #for each unique value (level) of target feature \n",
    "        confusion_matrix.iloc[y] = [compare_values(pred_target_df,x,y) for x in target_values] # compare values for the different combination of predicted values (x) and \"true\" values (y)\n",
    "    return confusion_matrix\n",
    "\n",
    "confusion_matrix = set_matrix(pred_vs_true_df)\n",
    "confusion_matrix"
   ]
  },
  {
   "cell_type": "code",
   "execution_count": 5,
   "metadata": {},
   "outputs": [
    {
     "name": "stdout",
     "output_type": "stream",
     "text": [
      "Accuracy is 96.3766%\n",
      "Precision for \"0\" class is 96.3766%\n",
      "Recall for \"0\" class is 100.0%\n",
      "Precision for \"1\" class is nan%\n",
      "Recall for \"1\" class is 0.0%\n"
     ]
    },
    {
     "name": "stderr",
     "output_type": "stream",
     "text": [
      "C:\\Users\\mtava\\Anaconda3\\lib\\site-packages\\ipykernel_launcher.py:10: RuntimeWarning: invalid value encountered in longlong_scalars\n",
      "  # Remove the CWD from sys.path while we load stuff.\n"
     ]
    }
   ],
   "source": [
    "#Confusion matrix metrics\n",
    "\n",
    "# function to calculate recall per level in a confusion matrix\n",
    "def calc_rec(cm):\n",
    "    recs = [cm.iloc[i,i]/sum(cm.iloc[i,:]) for i in range(len(cm))]\n",
    "    return recs\n",
    "\n",
    "# function to calculate precision per level in a confusion matrix\n",
    "def calc_prec(cm):\n",
    "    precs = [cm.iloc[i,i]/sum(cm.iloc[:,i]) for i in range(len(cm))]\n",
    "    return precs\n",
    "\n",
    "#function to compute confusion matrix metrics\n",
    "def cm_metrics(cm):\n",
    "    acc = round(np.trace(cm)/cm.values.sum()*100,4) # accuracy\n",
    "    print('Accuracy is ' + str(acc) + '%') # accuracy\n",
    "    precs = calc_prec(cm)\n",
    "    recs = calc_rec(cm)\n",
    "    for i in range(len(cm)):\n",
    "        print('Precision for \"' + str(i) + '\" class is ' + str(round(precs[i]*100,4)) + '%')\n",
    "        print('Recall for \"' + str(i) + '\" class is '  + str(round(recs[i]*100,4)) + '%')\n",
    "\n",
    "cm_metrics(confusion_matrix)"
   ]
  },
  {
   "cell_type": "code",
   "execution_count": 6,
   "metadata": {},
   "outputs": [
    {
     "name": "stdout",
     "output_type": "stream",
     "text": [
      "Average class accuracy (harmonic mean): 0.0%\n"
     ]
    },
    {
     "name": "stderr",
     "output_type": "stream",
     "text": [
      "C:\\Users\\mtava\\Anaconda3\\lib\\site-packages\\ipykernel_launcher.py:12: RuntimeWarning: divide by zero encountered in reciprocal\n",
      "  if sys.path[0] == '':\n"
     ]
    }
   ],
   "source": [
    "# Evaluate average class accuracy using harmonic mean (according to the module book, arithmetic means are more\n",
    "#susceptible to influence of large outliers, which can inflate the apparent performance of a model. So I use harmonic mean)\n",
    "\n",
    "# function to calculate recall per level in a confusion matrix\n",
    "def calc_recall(cm):\n",
    "    recalls = [cm.iloc[i,i]/sum(cm.iloc[i,:]) for i in range(len(cm))]\n",
    "    return recalls\n",
    "\n",
    "# function to calculate average class accuracy using harmonic mean given a confusion matrix as dataframe\n",
    "def calc_avg_class_acc_hm(cm):\n",
    "    recalls = calc_recall(cm)\n",
    "    avg_class_acc_hm = 1/(1/len(recalls)*sum(np.reciprocal(recalls)))\n",
    "    return avg_class_acc_hm\n",
    "\n",
    "print(\"Average class accuracy (harmonic mean): \" + str(round(calc_avg_class_acc_hm(confusion_matrix)*100,4)) + \"%\")\n"
   ]
  },
  {
   "cell_type": "markdown",
   "metadata": {},
   "source": [
    "From the output above, Xgboost is basically unable to predict positive class label (imbalanced dataset)."
   ]
  },
  {
   "cell_type": "markdown",
   "metadata": {},
   "source": [
    "In code below, I also use normalized Gini index evaluation (kaggle competition metric)."
   ]
  },
  {
   "cell_type": "code",
   "execution_count": 7,
   "metadata": {},
   "outputs": [
    {
     "name": "stdout",
     "output_type": "stream",
     "text": [
      "Normalized gini coefficient: 0.2722\n"
     ]
    }
   ],
   "source": [
    "#https://www.kaggle.com/cpmpml/extremely-fast-gini-computation\n",
    "\n",
    "def ginic(actual, pred):\n",
    "    actual = np.asarray(actual) #In case, someone passes Series or list\n",
    "    n = len(actual)\n",
    "    a_s = actual[np.argsort(pred)]\n",
    "    a_c = a_s.cumsum()\n",
    "    giniSum = a_c.sum() / a_s.sum() - (n + 1) / 2.0\n",
    "    return giniSum / n\n",
    " \n",
    "def gini_normalizedc(a, p):\n",
    "    p = np.asarray(p)\n",
    "    if p.ndim == 2:#Required for sklearn wrapper\n",
    "        p = p[:,1] #If proba array contains proba for both 0 and 1 classes, just pick class 1\n",
    "    return ginic(a, p) / ginic(a, a)\n",
    "\n",
    "print(\"Normalized gini coefficient: \" + str(round(gini_normalizedc(y_test.iloc[:,1],y_pred_prob),4)))\n"
   ]
  },
  {
   "cell_type": "markdown",
   "metadata": {},
   "source": [
    "### Prediction Iteration 2 - Oversample rare class\n",
    "\n",
    "I will use a different split of the dataset in an attemp to overcome the class imbalance problem. As suggested in Case Study of the of the module book (page 479), I will divide the training set with an equal proportion of claimers and non-claimers.\n",
    "In this iteration, I will first oversample the test set to match the occurences of the rare class with the frequency of the majority class.\n"
   ]
  },
  {
   "cell_type": "code",
   "execution_count": 8,
   "metadata": {},
   "outputs": [],
   "source": [
    "from sklearn.utils import resample #using sklearn resample\n",
    "\n",
    "# get same instances of the previous train set with labels (and no id)\n",
    "X_train_prev = pd.concat([X_train.iloc[:,1:], y_train.iloc[:,1]], axis=1)\n",
    "\n",
    "claimers = X_train_prev[X_train_prev['target']==1] #get claimers subset\n",
    "nonclaimers = X_train_prev[X_train_prev['target']==0] #get nonclaimers subset\n",
    "\n",
    "# upsample rare class\n",
    "claimers_upsampled = resample(claimers,\n",
    "                          replace=True, # sample with replacement\n",
    "                          n_samples=len(nonclaimers), # match number in majority class\n",
    "                          random_state=1) # reproducible results\n",
    "\n",
    "# get upsampled claimers subset and nonclaimers subset together to make a new balanced train dataset\n",
    "train_upsampled = pd.concat([nonclaimers, claimers_upsampled])\n",
    "\n",
    "# get new X_train and y_train\n",
    "X_train2 = train_upsampled.loc[:,train_upsampled.columns != 'target']\n",
    "y_train2 = train_upsampled.iloc[:,-1]\n",
    "\n",
    "#train classifier (same classifier of first iteration but with different sampling)\n",
    "fit_model2 = clf1.fit(X_train2,y_train2)\n",
    "\n",
    "#create predictions vector and prediction probabilities. I will predict X_test instances (\"unseen\" instances)\n",
    "y_pred2 = fit_model2.predict(X_test.iloc[:,1:]) #prediction vector with classes\n",
    "y_pred_prob2 = fit_model2.predict_proba(X_test.iloc[:,1:]) #prediction probabilities vector [P(0), P(1)]\n",
    "\n",
    "pred_vs_true2  = np.c_[y_pred2,y_test.iloc[:,1]] # set up a 2-D array that has predictions and true (test) values side by side\n",
    "pred_vs_true_df2 = pd.DataFrame(data=pred_vs_true2,columns = [\"pred\",\"true\"]) # convert it to dataframe to be readable by evaluation algorithm\n",
    "\n"
   ]
  },
  {
   "cell_type": "code",
   "execution_count": null,
   "metadata": {},
   "outputs": [],
   "source": [
    "print(y_train)"
   ]
  },
  {
   "cell_type": "markdown",
   "metadata": {},
   "source": [
    "### Evaluation (Iteration 2) - Oversample rare class"
   ]
  },
  {
   "cell_type": "code",
   "execution_count": 9,
   "metadata": {},
   "outputs": [
    {
     "data": {
      "text/html": [
       "<div>\n",
       "<style scoped>\n",
       "    .dataframe tbody tr th:only-of-type {\n",
       "        vertical-align: middle;\n",
       "    }\n",
       "\n",
       "    .dataframe tbody tr th {\n",
       "        vertical-align: top;\n",
       "    }\n",
       "\n",
       "    .dataframe thead th {\n",
       "        text-align: right;\n",
       "    }\n",
       "</style>\n",
       "<table border=\"1\" class=\"dataframe\">\n",
       "  <thead>\n",
       "    <tr style=\"text-align: right;\">\n",
       "      <th></th>\n",
       "      <th>0</th>\n",
       "      <th>1</th>\n",
       "    </tr>\n",
       "  </thead>\n",
       "  <tbody>\n",
       "    <tr>\n",
       "      <td>0</td>\n",
       "      <td>107865</td>\n",
       "      <td>64229</td>\n",
       "    </tr>\n",
       "    <tr>\n",
       "      <td>1</td>\n",
       "      <td>2828</td>\n",
       "      <td>3642</td>\n",
       "    </tr>\n",
       "  </tbody>\n",
       "</table>\n",
       "</div>"
      ],
      "text/plain": [
       "        0      1\n",
       "0  107865  64229\n",
       "1    2828   3642"
      ]
     },
     "execution_count": 9,
     "metadata": {},
     "output_type": "execute_result"
    }
   ],
   "source": [
    "confusion_matrix2 = set_matrix(pred_vs_true_df2)\n",
    "confusion_matrix2"
   ]
  },
  {
   "cell_type": "code",
   "execution_count": 10,
   "metadata": {},
   "outputs": [
    {
     "name": "stdout",
     "output_type": "stream",
     "text": [
      "Accuracy is 62.4465%\n",
      "Precision for \"0\" class is 97.4452%\n",
      "Recall for \"0\" class is 62.678%\n",
      "Precision for \"1\" class is 5.3661%\n",
      "Recall for \"1\" class is 56.2906%\n"
     ]
    }
   ],
   "source": [
    "cm_metrics(confusion_matrix2)"
   ]
  },
  {
   "cell_type": "code",
   "execution_count": 11,
   "metadata": {},
   "outputs": [
    {
     "name": "stdout",
     "output_type": "stream",
     "text": [
      "Average class accuracy (harmonic mean): 59.3128%\n"
     ]
    }
   ],
   "source": [
    "print(\"Average class accuracy (harmonic mean): \" + str(round(calc_avg_class_acc_hm(confusion_matrix2)*100,4)) + \"%\")"
   ]
  },
  {
   "cell_type": "code",
   "execution_count": 12,
   "metadata": {},
   "outputs": [
    {
     "name": "stdout",
     "output_type": "stream",
     "text": [
      "Normalized gini coefficient: 0.2739\n"
     ]
    }
   ],
   "source": [
    "print(\"Normalized gini coefficient: \" + str(round(gini_normalizedc(y_test.iloc[:,1], y_pred_prob2),4)))"
   ]
  },
  {
   "cell_type": "markdown",
   "metadata": {},
   "source": [
    "### Prediction Iteration 3 - Undersample majority class"
   ]
  },
  {
   "cell_type": "markdown",
   "metadata": {},
   "source": [
    "In this iteration I will also divide the training set with an equal proportion of claimers and non-claimers but undersampling the majority class, i.e., randomly removing majority class instances to reach a balanced dataset."
   ]
  },
  {
   "cell_type": "code",
   "execution_count": 13,
   "metadata": {},
   "outputs": [],
   "source": [
    "# majority class undersampling\n",
    "nonclaimers_undersampled = resample(nonclaimers,\n",
    "                          replace=False, # sample without replacement\n",
    "                          n_samples=len(claimers), # match number in majority class\n",
    "                          random_state=1) # reproducible results\n",
    "\n",
    "# get sampled claimers subset and undersampled nonclaimers subset together to make a new balanced train dataset\n",
    "train_undersampled = pd.concat([nonclaimers_undersampled, claimers])\n",
    "\n",
    "# get new X_train and y_train\n",
    "X_train3 = train_undersampled.loc[:,train_undersampled.columns != 'target']\n",
    "y_train3 = train_undersampled.iloc[:,-1]\n",
    "\n",
    "#train classifier (same classifier of first iteration but with different sampling)\n",
    "fit_model3 = clf1.fit(X_train3,y_train3)\n",
    "\n",
    "#create predictions vector and prediction probabilities. I will predict X_test instances (\"unseen\" instances)\n",
    "y_pred3 = fit_model3.predict(X_test.iloc[:,1:]) #prediction vector with classes\n",
    "y_pred_prob3 = fit_model3.predict_proba(X_test.iloc[:,1:]) #prediction probabilities vector [P(0), P(1)]\n",
    "\n",
    "pred_vs_true3 = np.c_[y_pred3,y_test.iloc[:,1]] # set up a 2-D array that has predictions and true (test) values side by side\n",
    "pred_vs_true_df3 = pd.DataFrame(data=pred_vs_true3,columns = [\"pred\",\"true\"]) # convert it to dataframe to be readable by evaluation algorithm\n",
    "\n"
   ]
  },
  {
   "cell_type": "markdown",
   "metadata": {},
   "source": [
    "### Evaluation (Iteration 3) - Undersample majority class"
   ]
  },
  {
   "cell_type": "code",
   "execution_count": 14,
   "metadata": {},
   "outputs": [
    {
     "data": {
      "text/html": [
       "<div>\n",
       "<style scoped>\n",
       "    .dataframe tbody tr th:only-of-type {\n",
       "        vertical-align: middle;\n",
       "    }\n",
       "\n",
       "    .dataframe tbody tr th {\n",
       "        vertical-align: top;\n",
       "    }\n",
       "\n",
       "    .dataframe thead th {\n",
       "        text-align: right;\n",
       "    }\n",
       "</style>\n",
       "<table border=\"1\" class=\"dataframe\">\n",
       "  <thead>\n",
       "    <tr style=\"text-align: right;\">\n",
       "      <th></th>\n",
       "      <th>0</th>\n",
       "      <th>1</th>\n",
       "    </tr>\n",
       "  </thead>\n",
       "  <tbody>\n",
       "    <tr>\n",
       "      <td>0</td>\n",
       "      <td>107525</td>\n",
       "      <td>64569</td>\n",
       "    </tr>\n",
       "    <tr>\n",
       "      <td>1</td>\n",
       "      <td>2865</td>\n",
       "      <td>3605</td>\n",
       "    </tr>\n",
       "  </tbody>\n",
       "</table>\n",
       "</div>"
      ],
      "text/plain": [
       "        0      1\n",
       "0  107525  64569\n",
       "1    2865   3605"
      ]
     },
     "execution_count": 14,
     "metadata": {},
     "output_type": "execute_result"
    }
   ],
   "source": [
    "confusion_matrix3 = set_matrix(pred_vs_true_df3)\n",
    "confusion_matrix3"
   ]
  },
  {
   "cell_type": "code",
   "execution_count": 15,
   "metadata": {},
   "outputs": [
    {
     "name": "stdout",
     "output_type": "stream",
     "text": [
      "Accuracy is 62.2354%\n",
      "Precision for \"0\" class is 97.4047%\n",
      "Recall for \"0\" class is 62.4804%\n",
      "Precision for \"1\" class is 5.2879%\n",
      "Recall for \"1\" class is 55.7187%\n"
     ]
    }
   ],
   "source": [
    "cm_metrics(confusion_matrix3)"
   ]
  },
  {
   "cell_type": "code",
   "execution_count": 16,
   "metadata": {},
   "outputs": [
    {
     "name": "stdout",
     "output_type": "stream",
     "text": [
      "Average class accuracy (harmonic mean): 58.9061%\n"
     ]
    }
   ],
   "source": [
    "print(\"Average class accuracy (harmonic mean): \" + str(round(calc_avg_class_acc_hm(confusion_matrix3)*100,4)) + \"%\")"
   ]
  },
  {
   "cell_type": "code",
   "execution_count": 17,
   "metadata": {},
   "outputs": [
    {
     "name": "stdout",
     "output_type": "stream",
     "text": [
      "Normalized gini coefficient: 0.2638\n"
     ]
    }
   ],
   "source": [
    "print(\"Normalized gini coefficient: \" + str(round(gini_normalizedc(y_test.iloc[:,1], y_pred_prob3),4)))"
   ]
  },
  {
   "cell_type": "markdown",
   "metadata": {},
   "source": [
    "From the outputs above, either oversampling or undersampling results in significant improvement of the algorithms' performance metrics. Xgboost has proven to outperform other algorithms tested previously (SGD Classifier, Decision Trees, Random Forest). The fact that both precision and normalized gini coefficient are higher for a dataset that has its rare class oversampled suggests that the loss of information in an undersampled dataset is penalising the algorithm."
   ]
  },
  {
   "cell_type": "markdown",
   "metadata": {},
   "source": [
    "### Optimization"
   ]
  },
  {
   "cell_type": "markdown",
   "metadata": {},
   "source": [
    "\n",
    "\n",
    "A trained XGBoost model automatically calculates feature importance on a predictive modeling problem. I will explore the built-in Plot Importance feature and then compute a feature selection also with built-in feature Importance Scores.\n",
    "I will work with the oversampled dataset that I used previously on Iteration 2 once this resulted in better performance metrics.\n",
    "\n",
    "The information regarding built-in functions for feature selection using xgboost were obtained in https://machinelearningmastery.com/feature-importance-and-feature-selection-with-xgboost-in-python/"
   ]
  },
  {
   "cell_type": "code",
   "execution_count": 18,
   "metadata": {},
   "outputs": [],
   "source": [
    "#import libraries\n",
    "from matplotlib import pyplot as plt\n",
    "from xgboost import plot_importance\n",
    "from sklearn.feature_selection import SelectFromModel\n",
    "from numpy import sort"
   ]
  },
  {
   "cell_type": "code",
   "execution_count": 26,
   "metadata": {},
   "outputs": [
    {
     "data": {
      "image/png": "[encoded data removed]",
      "text/plain": [
       "<Figure size 720x576 with 1 Axes>"
      ]
     },
     "metadata": {
      "needs_background": "light"
     },
     "output_type": "display_data"
    }
   ],
   "source": [
    "#plotting features importance by F score\n",
    "fig, ax = plt.subplots(figsize=(10,8))\n",
    "plot_importance(fit_model2,ax=ax)\n",
    "plt.show()"
   ]
  },
  {
   "cell_type": "markdown",
   "metadata": {},
   "source": [
    "From plot above we can see that there are features with a big difference concerning its importance, which suggests that feature selection might be useful to improve performance metrics.\n"
   ]
  },
  {
   "cell_type": "markdown",
   "metadata": {},
   "source": [
    "In code block below, I set up a function to predict and evaluate an xgboost classifier given a threshold of feature importance."
   ]
  },
  {
   "cell_type": "code",
   "execution_count": 27,
   "metadata": {},
   "outputs": [],
   "source": [
    "#create a vector of thresholds with feature importances\n",
    "thresholds = sort(fit_model2.feature_importances_)\n",
    "\n",
    "#create a function to train and evaluate using a subset of features given a threshold of importance\n",
    "def evaluate_feature_reduction(thresh):\n",
    "    \n",
    "    ### Feature reduction logic ###\n",
    "    \n",
    "    # create selection object to select features above \"thresh\" importance level\n",
    "    selection = SelectFromModel(fit_model2, threshold=thresh, prefit=True) #fit_model2 once it is more sensitive to rare class\n",
    "    \n",
    "    # select train dataset only with features above \"thresh\" importance level\n",
    "    X_train_subset = selection.transform(X_train2) #X_train2 (oversampled training set)\n",
    "    \n",
    "    selection_clf = XGBClassifier(random_state=1) #create classifier object\n",
    "    selection_fit_model = selection_clf.fit(X_train_subset,y_train2) #train classifier with feature reduction\n",
    "    \n",
    "    # select test dataset only with features above \"thresh\" importance level\n",
    "    X_test_subset = selection.transform(X_test.iloc[:,1:])\n",
    "\n",
    "    #create predictions vector and prediction probabilities. I will predict X_test instances (\"unseen\" instances)\n",
    "    y_pred_subset = selection_fit_model.predict(X_test_subset) #prediction vector with classes\n",
    "    y_pred_prob_subset = selection_fit_model.predict_proba(X_test_subset) #prediction probabilities vector [P(0), P(1)]\n",
    "\n",
    "    pred_vs_true_subset = np.c_[y_pred_subset,y_test.iloc[:,1]] # set up a 2-D array that has predictions and true (test) values side by side\n",
    "    pred_vs_true_df_subset = pd.DataFrame(data=pred_vs_true_subset,columns = [\"pred\",\"true\"]) # convert it to dataframe to be readable by evaluation algorithm\n",
    "    \n",
    "    ### Evaluation logic ###\n",
    "    \n",
    "    confusion_matrix_subset = set_matrix(pred_vs_true_df_subset)\n",
    "    n_features = X_train_subset.shape[1]\n",
    "    avg_class_accuracy_hm = round(calc_avg_class_acc_hm(confusion_matrix_subset)*100,4)\n",
    "    normalized_gini = round(gini_normalizedc(y_test.iloc[:,1], y_pred_prob_subset),4)\n",
    "    threshold = thresh\n",
    "    return n_features, avg_class_accuracy_hm, normalized_gini, thresh\n",
    "    \n",
    "fr_results = [evaluate_feature_reduction(thresh) for thresh in thresholds]\n",
    "\n",
    "fr_n_features = [x[0] for x in fr_results] #get number of features used in prediction\n",
    "fr_avg_class_accuracy_hm = [x[1] for x in fr_results]  #get average class accuracy \n",
    "fr_normalized_gini = [x[2] for x in fr_results] #get normalized gini index\n",
    "fr_threshold = [x[3] for x in fr_results] #get threshold to use later\n",
    "\n"
   ]
  },
  {
   "cell_type": "markdown",
   "metadata": {},
   "source": [
    "In plots below, I compute average class accuracy and normalized gini coefficient for each subset of features. Given that the subset of features was chosen based on importance threshold and there are seven features with importance equal to zero, this resulted in the same 56 features (all features) being chosen for the first 8 iterations and consequently outputing the same performance metrics - hence the gap observed from n=55 to n=47 in plots below."
   ]
  },
  {
   "cell_type": "markdown",
   "metadata": {},
   "source": [
    "Feature reduction results - average class accuracy:"
   ]
  },
  {
   "cell_type": "code",
   "execution_count": 28,
   "metadata": {},
   "outputs": [
    {
     "data": {
      "image/png": "[encoded data removed]",
      "text/plain": [
       "<Figure size 432x288 with 1 Axes>"
      ]
     },
     "metadata": {
      "needs_background": "light"
     },
     "output_type": "display_data"
    }
   ],
   "source": [
    "plt.bar(fr_n_features,fr_avg_class_accuracy_hm)\n",
    "plt.title('Average Class Accuracy')\n",
    "plt.xlabel('Number of features')\n",
    "plt.ylabel('Average Class Accuracy (%)')\n",
    "plt.show()"
   ]
  },
  {
   "cell_type": "markdown",
   "metadata": {},
   "source": [
    "Feature reduction results - normalized gini coefficient:"
   ]
  },
  {
   "cell_type": "code",
   "execution_count": 29,
   "metadata": {},
   "outputs": [
    {
     "data": {
      "image/png": "[encoded data removed]",
      "text/plain": [
       "<Figure size 432x288 with 1 Axes>"
      ]
     },
     "metadata": {
      "needs_background": "light"
     },
     "output_type": "display_data"
    }
   ],
   "source": [
    "# plot feature reduction results - normalized gini coefficient\n",
    "plt.bar(fr_n_features,fr_normalized_gini)\n",
    "plt.title('Normalized Gini Coefficient')\n",
    "plt.xlabel('Number of features')\n",
    "plt.ylabel('Normalized Gini Coefficient')\n",
    "plt.show()"
   ]
  },
  {
   "cell_type": "markdown",
   "metadata": {},
   "source": [
    "From the outputs below I conclude that feature reduction has little impact in both average class accuracy and normalized gini coefficient."
   ]
  },
  {
   "cell_type": "markdown",
   "metadata": {},
   "source": [
    "However, there is an optimal subset of features that produce the highest gini coefficient that I can retrieve to make better predictions based on this criteria."
   ]
  },
  {
   "cell_type": "code",
   "execution_count": 37,
   "metadata": {},
   "outputs": [
    {
     "name": "stdout",
     "output_type": "stream",
     "text": [
      "Maximum normalized gini coefficent: 0.2762 for 47 features (59.34%).\n"
     ]
    }
   ],
   "source": [
    "#obtain index of maximum gini coefficient\n",
    "max_index = fr_normalized_gini.index(max(fr_normalized_gini))\n",
    "max_threshold = fr_threshold[max_index]\n",
    "max_ginic = fr_normalized_gini[max_index]\n",
    "max_avg_class_accuracy_hm = fr_avg_class_accuracy_hm[max_index]\n",
    "print(\"Maximum normalized gini coefficent: \"+ str(max_ginic) +\" for \" + str(fr_n_features[max_index]) + \" features (\"+ str(round(max_avg_class_accuracy_hm,2))+\"%).\" )"
   ]
  },
  {
   "cell_type": "markdown",
   "metadata": {},
   "source": [
    "Build predictive model based on maximum gini coefficient obtained after feature reduction."
   ]
  },
  {
   "cell_type": "code",
   "execution_count": 31,
   "metadata": {},
   "outputs": [],
   "source": [
    "# create selection object to select features above \"max_threshold\" importance level\n",
    "selection = SelectFromModel(fit_model2, threshold=max_threshold, prefit=True) #fit_model2 once it is more sensitive to rare class\n",
    "    \n",
    "# select train dataset only with features above \"max_thresh\" importance level\n",
    "X_train_subset = selection.transform(X_train2) #X_train2 (oversampled training set)\n",
    "    \n",
    "selection_clf = XGBClassifier(random_state=1) #create classifier object\n",
    "selection_fit_kaggle_model = selection_clf.fit(X_train_subset,y_train2) #train classifier with feature reduction"
   ]
  },
  {
   "cell_type": "markdown",
   "metadata": {},
   "source": [
    "### Kaggle Prediction"
   ]
  },
  {
   "cell_type": "code",
   "execution_count": 32,
   "metadata": {},
   "outputs": [],
   "source": [
    "#load kaggle test dataset\n",
    "testdf = pd.read_csv(\"./testdf1.csv\")\n",
    "\n",
    "# select kaggle test dataset only with features above \"thresh\" importance level\n",
    "kaggle_test_subset = selection.transform(testdf.iloc[:,1:])\n",
    "\n",
    "#create prediction probabilities 2D vector. I will predict kaggle_test_subset\n",
    "kaggle_pred_prob_subset = selection_fit_kaggle_model.predict_proba(kaggle_test_subset) #prediction probabilities vector [P(0), P(1)]\n",
    "\n",
    "preds_index = testdf.iloc[:,0] #get indexes id from testdf\n",
    "preds_test = np.around(kaggle_pred_prob_subset[:,1],4) # round probability predictions vector to 4 decimal places\n",
    "\n",
    "#create dataframe with indexes and probabilities\n",
    "output = pd.DataFrame({'Id': preds_index, 'target': preds_test})\n",
    "\n",
    "# save to txt\n",
    "np.savetxt(\"submission.csv\", output.values, delimiter=\",\", fmt=['%d','%1.4f'], header=\"id,target\",comments='')\n"
   ]
  }
 ],
 "metadata": {
  "kernelspec": {
   "display_name": "Python 3",
   "language": "python",
   "name": "python3"
  },
  "language_info": {
   "codemirror_mode": {
    "name": "ipython",
    "version": 3
   },
   "file_extension": ".py",
   "mimetype": "text/x-python",
   "name": "python",
   "nbconvert_exporter": "python",
   "pygments_lexer": "ipython3",
   "version": "3.7.4"
  }
 },
 "nbformat": 4,
 "nbformat_minor": 2
}
